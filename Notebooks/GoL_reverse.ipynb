{
  "nbformat": 4,
  "nbformat_minor": 0,
  "metadata": {
    "colab": {
      "name": "GoL_1_reverse_4filters.ipynb",
      "provenance": [],
      "collapsed_sections": []
    },
    "kernelspec": {
      "name": "python3",
      "display_name": "Python 3"
    },
    "accelerator": "GPU"
  },
  "cells": [
    {
      "cell_type": "markdown",
      "metadata": {
        "id": "svzIMAv5X9-v"
      },
      "source": [
        "> Installing required packages..."
      ]
    },
    {
      "cell_type": "code",
      "metadata": {
        "id": "dsSzLsW8kAZo",
        "colab": {
          "base_uri": "https://localhost:8080/"
        },
        "outputId": "a206a34e-b635-4bb1-eff7-d1e107da792c"
      },
      "source": [
        "!pip install tensorflow\n",
        "!pip install tensorflowjs\n",
        "!pip install numpy\n",
        "!pip install matplotlib\n",
        "!pip install rarfile\n",
        "!pip install sklearn"
      ],
      "execution_count": null,
      "outputs": [
        {
          "output_type": "stream",
          "text": [
            "Requirement already satisfied: tensorflow in /usr/local/lib/python3.6/dist-packages (2.4.0)\n",
            "Requirement already satisfied: google-pasta~=0.2 in /usr/local/lib/python3.6/dist-packages (from tensorflow) (0.2.0)\n",
            "Requirement already satisfied: wrapt~=1.12.1 in /usr/local/lib/python3.6/dist-packages (from tensorflow) (1.12.1)\n",
            "Requirement already satisfied: tensorflow-estimator<2.5.0,>=2.4.0rc0 in /usr/local/lib/python3.6/dist-packages (from tensorflow) (2.4.0)\n",
            "Requirement already satisfied: opt-einsum~=3.3.0 in /usr/local/lib/python3.6/dist-packages (from tensorflow) (3.3.0)\n",
            "Requirement already satisfied: protobuf>=3.9.2 in /usr/local/lib/python3.6/dist-packages (from tensorflow) (3.12.4)\n",
            "Requirement already satisfied: numpy~=1.19.2 in /usr/local/lib/python3.6/dist-packages (from tensorflow) (1.19.5)\n",
            "Requirement already satisfied: flatbuffers~=1.12.0 in /usr/local/lib/python3.6/dist-packages (from tensorflow) (1.12)\n",
            "Requirement already satisfied: six~=1.15.0 in /usr/local/lib/python3.6/dist-packages (from tensorflow) (1.15.0)\n",
            "Requirement already satisfied: keras-preprocessing~=1.1.2 in /usr/local/lib/python3.6/dist-packages (from tensorflow) (1.1.2)\n",
            "Requirement already satisfied: h5py~=2.10.0 in /usr/local/lib/python3.6/dist-packages (from tensorflow) (2.10.0)\n",
            "Requirement already satisfied: astunparse~=1.6.3 in /usr/local/lib/python3.6/dist-packages (from tensorflow) (1.6.3)\n",
            "Requirement already satisfied: typing-extensions~=3.7.4 in /usr/local/lib/python3.6/dist-packages (from tensorflow) (3.7.4.3)\n",
            "Requirement already satisfied: wheel~=0.35 in /usr/local/lib/python3.6/dist-packages (from tensorflow) (0.36.2)\n",
            "Requirement already satisfied: absl-py~=0.10 in /usr/local/lib/python3.6/dist-packages (from tensorflow) (0.10.0)\n",
            "Requirement already satisfied: grpcio~=1.32.0 in /usr/local/lib/python3.6/dist-packages (from tensorflow) (1.32.0)\n",
            "Requirement already satisfied: tensorboard~=2.4 in /usr/local/lib/python3.6/dist-packages (from tensorflow) (2.4.0)\n",
            "Requirement already satisfied: gast==0.3.3 in /usr/local/lib/python3.6/dist-packages (from tensorflow) (0.3.3)\n",
            "Requirement already satisfied: termcolor~=1.1.0 in /usr/local/lib/python3.6/dist-packages (from tensorflow) (1.1.0)\n",
            "Requirement already satisfied: setuptools in /usr/local/lib/python3.6/dist-packages (from protobuf>=3.9.2->tensorflow) (51.3.3)\n",
            "Requirement already satisfied: tensorboard-plugin-wit>=1.6.0 in /usr/local/lib/python3.6/dist-packages (from tensorboard~=2.4->tensorflow) (1.7.0)\n",
            "Requirement already satisfied: requests<3,>=2.21.0 in /usr/local/lib/python3.6/dist-packages (from tensorboard~=2.4->tensorflow) (2.23.0)\n",
            "Requirement already satisfied: markdown>=2.6.8 in /usr/local/lib/python3.6/dist-packages (from tensorboard~=2.4->tensorflow) (3.3.3)\n",
            "Requirement already satisfied: google-auth<2,>=1.6.3 in /usr/local/lib/python3.6/dist-packages (from tensorboard~=2.4->tensorflow) (1.17.2)\n",
            "Requirement already satisfied: google-auth-oauthlib<0.5,>=0.4.1 in /usr/local/lib/python3.6/dist-packages (from tensorboard~=2.4->tensorflow) (0.4.2)\n",
            "Requirement already satisfied: werkzeug>=0.11.15 in /usr/local/lib/python3.6/dist-packages (from tensorboard~=2.4->tensorflow) (1.0.1)\n",
            "Requirement already satisfied: idna<3,>=2.5 in /usr/local/lib/python3.6/dist-packages (from requests<3,>=2.21.0->tensorboard~=2.4->tensorflow) (2.10)\n",
            "Requirement already satisfied: chardet<4,>=3.0.2 in /usr/local/lib/python3.6/dist-packages (from requests<3,>=2.21.0->tensorboard~=2.4->tensorflow) (3.0.4)\n",
            "Requirement already satisfied: urllib3!=1.25.0,!=1.25.1,<1.26,>=1.21.1 in /usr/local/lib/python3.6/dist-packages (from requests<3,>=2.21.0->tensorboard~=2.4->tensorflow) (1.24.3)\n",
            "Requirement already satisfied: certifi>=2017.4.17 in /usr/local/lib/python3.6/dist-packages (from requests<3,>=2.21.0->tensorboard~=2.4->tensorflow) (2020.12.5)\n",
            "Requirement already satisfied: importlib-metadata; python_version < \"3.8\" in /usr/local/lib/python3.6/dist-packages (from markdown>=2.6.8->tensorboard~=2.4->tensorflow) (3.3.0)\n",
            "Requirement already satisfied: pyasn1-modules>=0.2.1 in /usr/local/lib/python3.6/dist-packages (from google-auth<2,>=1.6.3->tensorboard~=2.4->tensorflow) (0.2.8)\n",
            "Requirement already satisfied: cachetools<5.0,>=2.0.0 in /usr/local/lib/python3.6/dist-packages (from google-auth<2,>=1.6.3->tensorboard~=2.4->tensorflow) (4.2.0)\n",
            "Requirement already satisfied: rsa<5,>=3.1.4; python_version >= \"3\" in /usr/local/lib/python3.6/dist-packages (from google-auth<2,>=1.6.3->tensorboard~=2.4->tensorflow) (4.6)\n",
            "Requirement already satisfied: requests-oauthlib>=0.7.0 in /usr/local/lib/python3.6/dist-packages (from google-auth-oauthlib<0.5,>=0.4.1->tensorboard~=2.4->tensorflow) (1.3.0)\n",
            "Requirement already satisfied: zipp>=0.5 in /usr/local/lib/python3.6/dist-packages (from importlib-metadata; python_version < \"3.8\"->markdown>=2.6.8->tensorboard~=2.4->tensorflow) (3.4.0)\n",
            "Requirement already satisfied: pyasn1<0.5.0,>=0.4.6 in /usr/local/lib/python3.6/dist-packages (from pyasn1-modules>=0.2.1->google-auth<2,>=1.6.3->tensorboard~=2.4->tensorflow) (0.4.8)\n",
            "Requirement already satisfied: oauthlib>=3.0.0 in /usr/local/lib/python3.6/dist-packages (from requests-oauthlib>=0.7.0->google-auth-oauthlib<0.5,>=0.4.1->tensorboard~=2.4->tensorflow) (3.1.0)\n",
            "Collecting tensorflowjs\n",
            "\u001b[?25l  Downloading https://files.pythonhosted.org/packages/06/70/5ec888400864258878cc7c638e9929eea9b307a2b1c5e1438dbd751e57ff/tensorflowjs-2.8.5-py3-none-any.whl (63kB)\n",
            "\u001b[K     |████████████████████████████████| 71kB 8.7MB/s \n",
            "\u001b[?25hRequirement already satisfied: six<2,>=1.12.0 in /usr/local/lib/python3.6/dist-packages (from tensorflowjs) (1.15.0)\n",
            "Requirement already satisfied: tensorflow<3,>=2.1.0 in /usr/local/lib/python3.6/dist-packages (from tensorflowjs) (2.4.0)\n",
            "Requirement already satisfied: h5py<3,>=2.8.0 in /usr/local/lib/python3.6/dist-packages (from tensorflowjs) (2.10.0)\n",
            "Collecting tensorflow-hub<0.10,>=0.7.0\n",
            "\u001b[?25l  Downloading https://files.pythonhosted.org/packages/ac/83/a7df82744a794107641dad1decaad017d82e25f0e1f761ac9204829eef96/tensorflow_hub-0.9.0-py2.py3-none-any.whl (103kB)\n",
            "\u001b[K     |████████████████████████████████| 112kB 13.3MB/s \n",
            "\u001b[?25hRequirement already satisfied: absl-py~=0.10 in /usr/local/lib/python3.6/dist-packages (from tensorflow<3,>=2.1.0->tensorflowjs) (0.10.0)\n",
            "Requirement already satisfied: flatbuffers~=1.12.0 in /usr/local/lib/python3.6/dist-packages (from tensorflow<3,>=2.1.0->tensorflowjs) (1.12)\n",
            "Requirement already satisfied: astunparse~=1.6.3 in /usr/local/lib/python3.6/dist-packages (from tensorflow<3,>=2.1.0->tensorflowjs) (1.6.3)\n",
            "Requirement already satisfied: google-pasta~=0.2 in /usr/local/lib/python3.6/dist-packages (from tensorflow<3,>=2.1.0->tensorflowjs) (0.2.0)\n",
            "Requirement already satisfied: keras-preprocessing~=1.1.2 in /usr/local/lib/python3.6/dist-packages (from tensorflow<3,>=2.1.0->tensorflowjs) (1.1.2)\n",
            "Requirement already satisfied: opt-einsum~=3.3.0 in /usr/local/lib/python3.6/dist-packages (from tensorflow<3,>=2.1.0->tensorflowjs) (3.3.0)\n",
            "Requirement already satisfied: gast==0.3.3 in /usr/local/lib/python3.6/dist-packages (from tensorflow<3,>=2.1.0->tensorflowjs) (0.3.3)\n",
            "Requirement already satisfied: typing-extensions~=3.7.4 in /usr/local/lib/python3.6/dist-packages (from tensorflow<3,>=2.1.0->tensorflowjs) (3.7.4.3)\n",
            "Requirement already satisfied: wheel~=0.35 in /usr/local/lib/python3.6/dist-packages (from tensorflow<3,>=2.1.0->tensorflowjs) (0.36.2)\n",
            "Requirement already satisfied: tensorflow-estimator<2.5.0,>=2.4.0rc0 in /usr/local/lib/python3.6/dist-packages (from tensorflow<3,>=2.1.0->tensorflowjs) (2.4.0)\n",
            "Requirement already satisfied: termcolor~=1.1.0 in /usr/local/lib/python3.6/dist-packages (from tensorflow<3,>=2.1.0->tensorflowjs) (1.1.0)\n",
            "Requirement already satisfied: protobuf>=3.9.2 in /usr/local/lib/python3.6/dist-packages (from tensorflow<3,>=2.1.0->tensorflowjs) (3.12.4)\n",
            "Requirement already satisfied: grpcio~=1.32.0 in /usr/local/lib/python3.6/dist-packages (from tensorflow<3,>=2.1.0->tensorflowjs) (1.32.0)\n",
            "Requirement already satisfied: tensorboard~=2.4 in /usr/local/lib/python3.6/dist-packages (from tensorflow<3,>=2.1.0->tensorflowjs) (2.4.0)\n",
            "Requirement already satisfied: wrapt~=1.12.1 in /usr/local/lib/python3.6/dist-packages (from tensorflow<3,>=2.1.0->tensorflowjs) (1.12.1)\n",
            "Requirement already satisfied: numpy~=1.19.2 in /usr/local/lib/python3.6/dist-packages (from tensorflow<3,>=2.1.0->tensorflowjs) (1.19.5)\n",
            "Requirement already satisfied: setuptools in /usr/local/lib/python3.6/dist-packages (from protobuf>=3.9.2->tensorflow<3,>=2.1.0->tensorflowjs) (51.3.3)\n",
            "Requirement already satisfied: google-auth-oauthlib<0.5,>=0.4.1 in /usr/local/lib/python3.6/dist-packages (from tensorboard~=2.4->tensorflow<3,>=2.1.0->tensorflowjs) (0.4.2)\n",
            "Requirement already satisfied: google-auth<2,>=1.6.3 in /usr/local/lib/python3.6/dist-packages (from tensorboard~=2.4->tensorflow<3,>=2.1.0->tensorflowjs) (1.17.2)\n",
            "Requirement already satisfied: requests<3,>=2.21.0 in /usr/local/lib/python3.6/dist-packages (from tensorboard~=2.4->tensorflow<3,>=2.1.0->tensorflowjs) (2.23.0)\n",
            "Requirement already satisfied: markdown>=2.6.8 in /usr/local/lib/python3.6/dist-packages (from tensorboard~=2.4->tensorflow<3,>=2.1.0->tensorflowjs) (3.3.3)\n",
            "Requirement already satisfied: werkzeug>=0.11.15 in /usr/local/lib/python3.6/dist-packages (from tensorboard~=2.4->tensorflow<3,>=2.1.0->tensorflowjs) (1.0.1)\n",
            "Requirement already satisfied: tensorboard-plugin-wit>=1.6.0 in /usr/local/lib/python3.6/dist-packages (from tensorboard~=2.4->tensorflow<3,>=2.1.0->tensorflowjs) (1.7.0)\n",
            "Requirement already satisfied: requests-oauthlib>=0.7.0 in /usr/local/lib/python3.6/dist-packages (from google-auth-oauthlib<0.5,>=0.4.1->tensorboard~=2.4->tensorflow<3,>=2.1.0->tensorflowjs) (1.3.0)\n",
            "Requirement already satisfied: pyasn1-modules>=0.2.1 in /usr/local/lib/python3.6/dist-packages (from google-auth<2,>=1.6.3->tensorboard~=2.4->tensorflow<3,>=2.1.0->tensorflowjs) (0.2.8)\n",
            "Requirement already satisfied: rsa<5,>=3.1.4; python_version >= \"3\" in /usr/local/lib/python3.6/dist-packages (from google-auth<2,>=1.6.3->tensorboard~=2.4->tensorflow<3,>=2.1.0->tensorflowjs) (4.6)\n",
            "Requirement already satisfied: cachetools<5.0,>=2.0.0 in /usr/local/lib/python3.6/dist-packages (from google-auth<2,>=1.6.3->tensorboard~=2.4->tensorflow<3,>=2.1.0->tensorflowjs) (4.2.0)\n",
            "Requirement already satisfied: certifi>=2017.4.17 in /usr/local/lib/python3.6/dist-packages (from requests<3,>=2.21.0->tensorboard~=2.4->tensorflow<3,>=2.1.0->tensorflowjs) (2020.12.5)\n",
            "Requirement already satisfied: urllib3!=1.25.0,!=1.25.1,<1.26,>=1.21.1 in /usr/local/lib/python3.6/dist-packages (from requests<3,>=2.21.0->tensorboard~=2.4->tensorflow<3,>=2.1.0->tensorflowjs) (1.24.3)\n",
            "Requirement already satisfied: chardet<4,>=3.0.2 in /usr/local/lib/python3.6/dist-packages (from requests<3,>=2.21.0->tensorboard~=2.4->tensorflow<3,>=2.1.0->tensorflowjs) (3.0.4)\n",
            "Requirement already satisfied: idna<3,>=2.5 in /usr/local/lib/python3.6/dist-packages (from requests<3,>=2.21.0->tensorboard~=2.4->tensorflow<3,>=2.1.0->tensorflowjs) (2.10)\n",
            "Requirement already satisfied: importlib-metadata; python_version < \"3.8\" in /usr/local/lib/python3.6/dist-packages (from markdown>=2.6.8->tensorboard~=2.4->tensorflow<3,>=2.1.0->tensorflowjs) (3.3.0)\n",
            "Requirement already satisfied: oauthlib>=3.0.0 in /usr/local/lib/python3.6/dist-packages (from requests-oauthlib>=0.7.0->google-auth-oauthlib<0.5,>=0.4.1->tensorboard~=2.4->tensorflow<3,>=2.1.0->tensorflowjs) (3.1.0)\n",
            "Requirement already satisfied: pyasn1<0.5.0,>=0.4.6 in /usr/local/lib/python3.6/dist-packages (from pyasn1-modules>=0.2.1->google-auth<2,>=1.6.3->tensorboard~=2.4->tensorflow<3,>=2.1.0->tensorflowjs) (0.4.8)\n",
            "Requirement already satisfied: zipp>=0.5 in /usr/local/lib/python3.6/dist-packages (from importlib-metadata; python_version < \"3.8\"->markdown>=2.6.8->tensorboard~=2.4->tensorflow<3,>=2.1.0->tensorflowjs) (3.4.0)\n",
            "Installing collected packages: tensorflow-hub, tensorflowjs\n",
            "  Found existing installation: tensorflow-hub 0.11.0\n",
            "    Uninstalling tensorflow-hub-0.11.0:\n",
            "      Successfully uninstalled tensorflow-hub-0.11.0\n",
            "Successfully installed tensorflow-hub-0.9.0 tensorflowjs-2.8.5\n",
            "Requirement already satisfied: numpy in /usr/local/lib/python3.6/dist-packages (1.19.5)\n",
            "Requirement already satisfied: matplotlib in /usr/local/lib/python3.6/dist-packages (3.2.2)\n",
            "Requirement already satisfied: cycler>=0.10 in /usr/local/lib/python3.6/dist-packages (from matplotlib) (0.10.0)\n",
            "Requirement already satisfied: python-dateutil>=2.1 in /usr/local/lib/python3.6/dist-packages (from matplotlib) (2.8.1)\n",
            "Requirement already satisfied: numpy>=1.11 in /usr/local/lib/python3.6/dist-packages (from matplotlib) (1.19.5)\n",
            "Requirement already satisfied: pyparsing!=2.0.4,!=2.1.2,!=2.1.6,>=2.0.1 in /usr/local/lib/python3.6/dist-packages (from matplotlib) (2.4.7)\n",
            "Requirement already satisfied: kiwisolver>=1.0.1 in /usr/local/lib/python3.6/dist-packages (from matplotlib) (1.3.1)\n",
            "Requirement already satisfied: six in /usr/local/lib/python3.6/dist-packages (from cycler>=0.10->matplotlib) (1.15.0)\n",
            "Collecting rarfile\n",
            "  Downloading https://files.pythonhosted.org/packages/95/f4/c92fab227c7457e3b76a4096ccb655ded9deac869849cb03afbe55dfdc1e/rarfile-4.0-py3-none-any.whl\n",
            "Installing collected packages: rarfile\n",
            "Successfully installed rarfile-4.0\n",
            "Requirement already satisfied: sklearn in /usr/local/lib/python3.6/dist-packages (0.0)\n",
            "Requirement already satisfied: scikit-learn in /usr/local/lib/python3.6/dist-packages (from sklearn) (0.22.2.post1)\n",
            "Requirement already satisfied: numpy>=1.11.0 in /usr/local/lib/python3.6/dist-packages (from scikit-learn->sklearn) (1.19.5)\n",
            "Requirement already satisfied: scipy>=0.17.0 in /usr/local/lib/python3.6/dist-packages (from scikit-learn->sklearn) (1.4.1)\n",
            "Requirement already satisfied: joblib>=0.11 in /usr/local/lib/python3.6/dist-packages (from scikit-learn->sklearn) (1.0.0)\n"
          ],
          "name": "stdout"
        }
      ]
    },
    {
      "cell_type": "code",
      "metadata": {
        "id": "2W9hd9ybU605"
      },
      "source": [
        "from sklearn.model_selection import train_test_split\n",
        "import numpy as np\n",
        "import matplotlib.pyplot as plt\n",
        "import random\n",
        "import json\n",
        "import os"
      ],
      "execution_count": null,
      "outputs": []
    },
    {
      "cell_type": "code",
      "metadata": {
        "id": "_ZX1mLgtRVbi"
      },
      "source": [
        "import tensorflow as tf\n",
        "\n",
        "tf.compat.v1.enable_eager_execution()"
      ],
      "execution_count": null,
      "outputs": []
    },
    {
      "cell_type": "markdown",
      "metadata": {
        "id": "gT83bjRXYElW"
      },
      "source": [
        "> Checking if GPU device is linked."
      ]
    },
    {
      "cell_type": "code",
      "metadata": {
        "colab": {
          "base_uri": "https://localhost:8080/"
        },
        "id": "GvdanZN8RqUN",
        "outputId": "1a0f82bf-f8cd-4e3c-942f-61da058938f9"
      },
      "source": [
        "device_name = tf.test.gpu_device_name()\n",
        "if device_name != \"/device:GPU:0\":\n",
        "    raise SystemError(\"GPU device not found\")\n",
        "    \n",
        "print(\"Found GPU at: {}\".format(device_name))"
      ],
      "execution_count": null,
      "outputs": [
        {
          "output_type": "stream",
          "text": [
            "Found GPU at: /device:GPU:0\n"
          ],
          "name": "stdout"
        }
      ]
    },
    {
      "cell_type": "markdown",
      "metadata": {
        "id": "knXa0OdHYIxi"
      },
      "source": [
        "> Connecting with google drive to import training Data"
      ]
    },
    {
      "cell_type": "code",
      "metadata": {
        "colab": {
          "base_uri": "https://localhost:8080/"
        },
        "id": "MruXhmMIRuTb",
        "outputId": "e34ffb37-7d15-4d76-e982-02ed993c9c41"
      },
      "source": [
        "from google.colab import drive\n",
        "drive.mount('/content/drive')"
      ],
      "execution_count": null,
      "outputs": [
        {
          "output_type": "stream",
          "text": [
            "Mounted at /content/drive\n"
          ],
          "name": "stdout"
        }
      ]
    },
    {
      "cell_type": "code",
      "metadata": {
        "id": "yalfIb59RwaH"
      },
      "source": [
        "import rarfile\n",
        "\n",
        "with rarfile.RarFile(\"/content/drive/MyDrive/Datasets/gol_data.rar\", \"r\") as zip_ref:\n",
        "  zip_ref.extractall(\"gol_data\")"
      ],
      "execution_count": null,
      "outputs": []
    },
    {
      "cell_type": "code",
      "metadata": {
        "id": "2-N6PmMOR8hO"
      },
      "source": [
        "data = []\n",
        "\n",
        "for i in range(1,3):\n",
        "    with open(f\"gol_data/gol_data_{i}.json\", \"r\") as f:\n",
        "        data.extend(json.load(f))"
      ],
      "execution_count": null,
      "outputs": []
    },
    {
      "cell_type": "code",
      "metadata": {
        "id": "D9P7ttRhR8hP"
      },
      "source": [
        "random.seed(10)\n",
        "\n",
        "for _ in range(1):\n",
        "    # random.seed(random.randint(0, 100))\n",
        "    random.shuffle(data)"
      ],
      "execution_count": null,
      "outputs": []
    },
    {
      "cell_type": "code",
      "metadata": {
        "id": "ShnEPDYTkq61"
      },
      "source": [
        "start_all, stop_all = [], []\n",
        "\n",
        "for item in data:\n",
        "  start_all.append(item[\"start_gen\"])\n",
        "  stop_all.append(item[\"stop_gen\"])"
      ],
      "execution_count": null,
      "outputs": []
    },
    {
      "cell_type": "code",
      "metadata": {
        "colab": {
          "base_uri": "https://localhost:8080/"
        },
        "id": "-ZSYoFRCR8hR",
        "outputId": "31ba9972-7a8b-46f0-ea23-bf0213e50957"
      },
      "source": [
        "print(len(start_all), len(stop_all))\n",
        "print(len(start_all[1]), len(stop_all[0]))"
      ],
      "execution_count": null,
      "outputs": [
        {
          "output_type": "stream",
          "text": [
            "200000 200000\n",
            "625 625\n"
          ],
          "name": "stdout"
        }
      ]
    },
    {
      "cell_type": "markdown",
      "metadata": {
        "id": "C7v9QaHgYOJf"
      },
      "source": [
        "> Splitting data to 66% training data and 33% testing data"
      ]
    },
    {
      "cell_type": "code",
      "metadata": {
        "id": "HV2YAphHlqKc"
      },
      "source": [
        "X_train, X_test, Y_train, Y_test = train_test_split(\n",
        "    np.array(stop_all, dtype=\"float32\").reshape((-1, 25, 25, 1)), \n",
        "    np.array(start_all, dtype=\"float32\").reshape((-1, 25, 25, 1)), \n",
        "    test_size=0.33,\n",
        "    random_state=100,\n",
        "    shuffle=True)"
      ],
      "execution_count": null,
      "outputs": []
    },
    {
      "cell_type": "markdown",
      "metadata": {
        "id": "b-ckDMhVYSoF"
      },
      "source": [
        "> Creating the model with 4 hidden layers."
      ]
    },
    {
      "cell_type": "code",
      "metadata": {
        "id": "dOCLdLk0ZtTo"
      },
      "source": [
        "def CreateModel(all_filters, kernels):\n",
        "    model = tf.keras.Sequential()\n",
        "    dropout_prob = 0.3\n",
        "    model.add(tf.keras.layers.Conv2D(filters=all_filters[0],\n",
        "                                     kernel_size=kernels[0],\n",
        "                                     padding=\"same\",\n",
        "                                     name=f\"conv_layer{1}\",\n",
        "                                     activation=\"relu\",\n",
        "                                     input_shape=(25, 25, 1)))\n",
        "    \n",
        "    model.add(tf.keras.layers.Dropout(dropout_prob))\n",
        "\n",
        "    for n in range(1, len(all_filters)):\n",
        "        model.add(tf.keras.layers.Conv2D(filters=all_filters[n],\n",
        "                                         kernel_size=kernels[n],\n",
        "                                         padding=\"same\",\n",
        "                                         activation=\"relu\"))\n",
        "        \n",
        "        model.add(tf.keras.layers.Dropout(dropout_prob))\n",
        "\n",
        "\n",
        "\n",
        "    model.add(tf.keras.layers.Conv2D(filters=1, \n",
        "                                     kernel_size=1,\n",
        "                                     padding=\"same\",\n",
        "                                     activation=\"tanh\"))\n",
        "\n",
        "    return model"
      ],
      "execution_count": null,
      "outputs": []
    },
    {
      "cell_type": "markdown",
      "metadata": {
        "id": "dwk23Gr3qSxt"
      },
      "source": [
        "> Compiling the model and starting the training"
      ]
    },
    {
      "cell_type": "code",
      "metadata": {
        "colab": {
          "base_uri": "https://localhost:8080/"
        },
        "id": "kbj7Z8wQKFTo",
        "outputId": "c2a71476-ba45-4d1c-8338-774b25dca579"
      },
      "source": [
        "model_checkpoint = tf.keras.callbacks.ModelCheckpoint(\n",
        "    filepath=\"/content/drive/My Drive/model_checkpoint_gol\",\n",
        "    save_weights_only=False,\n",
        "    monitor='val_accuracy',\n",
        "    mode='max',\n",
        "    save_best_only=True)\n",
        "\n",
        "filters = [256, 128, 256, 128]\n",
        "kernels = [3, 3, 3, 3]\n",
        "\n",
        "with tf.device(\"/gpu:0\"):\n",
        "    Model = CreateModel(filters, kernels)\n",
        "\n",
        "    Model.compile(\n",
        "        loss=\"bce\",\n",
        "        optimizer=tf.keras.optimizers.Adam(),\n",
        "        metrics=[\"accuracy\"])\n",
        "\n",
        "    Model.summary()\n",
        "\n",
        "    history = Model.fit(x=X_train,\n",
        "                        y=Y_train,\n",
        "                        epochs=100,\n",
        "                        batch_size=256,\n",
        "                        validation_data=(X_test, Y_test),\n",
        "                        shuffle=True,\n",
        "                        callbacks=[model_checkpoint])"
      ],
      "execution_count": null,
      "outputs": [
        {
          "output_type": "stream",
          "text": [
            "Model: \"sequential\"\n",
            "_________________________________________________________________\n",
            "Layer (type)                 Output Shape              Param #   \n",
            "=================================================================\n",
            "conv_layer1 (Conv2D)         (None, 25, 25, 256)       2560      \n",
            "_________________________________________________________________\n",
            "dropout (Dropout)            (None, 25, 25, 256)       0         \n",
            "_________________________________________________________________\n",
            "conv2d (Conv2D)              (None, 25, 25, 128)       295040    \n",
            "_________________________________________________________________\n",
            "dropout_1 (Dropout)          (None, 25, 25, 128)       0         \n",
            "_________________________________________________________________\n",
            "conv2d_1 (Conv2D)            (None, 25, 25, 256)       295168    \n",
            "_________________________________________________________________\n",
            "dropout_2 (Dropout)          (None, 25, 25, 256)       0         \n",
            "_________________________________________________________________\n",
            "conv2d_2 (Conv2D)            (None, 25, 25, 128)       295040    \n",
            "_________________________________________________________________\n",
            "dropout_3 (Dropout)          (None, 25, 25, 128)       0         \n",
            "_________________________________________________________________\n",
            "conv2d_3 (Conv2D)            (None, 25, 25, 1)         129       \n",
            "=================================================================\n",
            "Total params: 887,937\n",
            "Trainable params: 887,937\n",
            "Non-trainable params: 0\n",
            "_________________________________________________________________\n",
            "Epoch 1/100\n",
            "524/524 [==============================] - 104s 183ms/step - loss: 0.2775 - accuracy: 0.8786 - val_loss: 0.1918 - val_accuracy: 0.9182\n",
            "INFO:tensorflow:Assets written to: /content/drive/My Drive/model_checkpoint_gol/assets\n",
            "Epoch 2/100\n",
            "524/524 [==============================] - 95s 182ms/step - loss: 0.1977 - accuracy: 0.9148 - val_loss: 0.1829 - val_accuracy: 0.9227\n",
            "INFO:tensorflow:Assets written to: /content/drive/My Drive/model_checkpoint_gol/assets\n",
            "Epoch 3/100\n",
            "524/524 [==============================] - 95s 182ms/step - loss: 0.1900 - accuracy: 0.9189 - val_loss: 0.1794 - val_accuracy: 0.9244\n",
            "INFO:tensorflow:Assets written to: /content/drive/My Drive/model_checkpoint_gol/assets\n",
            "Epoch 4/100\n",
            "524/524 [==============================] - 96s 182ms/step - loss: 0.1866 - accuracy: 0.9207 - val_loss: 0.1768 - val_accuracy: 0.9257\n",
            "INFO:tensorflow:Assets written to: /content/drive/My Drive/model_checkpoint_gol/assets\n",
            "Epoch 5/100\n",
            "524/524 [==============================] - 95s 182ms/step - loss: 0.1839 - accuracy: 0.9221 - val_loss: 0.1745 - val_accuracy: 0.9268\n",
            "INFO:tensorflow:Assets written to: /content/drive/My Drive/model_checkpoint_gol/assets\n",
            "Epoch 6/100\n",
            "524/524 [==============================] - 95s 182ms/step - loss: 0.1823 - accuracy: 0.9228 - val_loss: 0.1730 - val_accuracy: 0.9275\n",
            "INFO:tensorflow:Assets written to: /content/drive/My Drive/model_checkpoint_gol/assets\n",
            "Epoch 7/100\n",
            "524/524 [==============================] - 95s 182ms/step - loss: 0.1809 - accuracy: 0.9235 - val_loss: 0.1781 - val_accuracy: 0.9264\n",
            "Epoch 8/100\n",
            "524/524 [==============================] - 95s 182ms/step - loss: 0.1816 - accuracy: 0.9234 - val_loss: 0.1712 - val_accuracy: 0.9286\n",
            "INFO:tensorflow:Assets written to: /content/drive/My Drive/model_checkpoint_gol/assets\n",
            "Epoch 9/100\n",
            "524/524 [==============================] - 95s 181ms/step - loss: 0.1791 - accuracy: 0.9245 - val_loss: 0.1700 - val_accuracy: 0.9290\n",
            "INFO:tensorflow:Assets written to: /content/drive/My Drive/model_checkpoint_gol/assets\n",
            "Epoch 10/100\n",
            "524/524 [==============================] - 95s 182ms/step - loss: 0.1779 - accuracy: 0.9251 - val_loss: 0.1692 - val_accuracy: 0.9295\n",
            "INFO:tensorflow:Assets written to: /content/drive/My Drive/model_checkpoint_gol/assets\n",
            "Epoch 11/100\n",
            "524/524 [==============================] - 95s 182ms/step - loss: 0.1767 - accuracy: 0.9257 - val_loss: 0.1689 - val_accuracy: 0.9298\n",
            "INFO:tensorflow:Assets written to: /content/drive/My Drive/model_checkpoint_gol/assets\n",
            "Epoch 12/100\n",
            "524/524 [==============================] - 95s 181ms/step - loss: 0.1762 - accuracy: 0.9260 - val_loss: 0.1678 - val_accuracy: 0.9302\n",
            "INFO:tensorflow:Assets written to: /content/drive/My Drive/model_checkpoint_gol/assets\n",
            "Epoch 13/100\n",
            "524/524 [==============================] - 95s 181ms/step - loss: 0.1751 - accuracy: 0.9266 - val_loss: 0.1674 - val_accuracy: 0.9304\n",
            "INFO:tensorflow:Assets written to: /content/drive/My Drive/model_checkpoint_gol/assets\n",
            "Epoch 14/100\n",
            "524/524 [==============================] - 95s 182ms/step - loss: 0.1749 - accuracy: 0.9267 - val_loss: 0.1671 - val_accuracy: 0.9305\n",
            "INFO:tensorflow:Assets written to: /content/drive/My Drive/model_checkpoint_gol/assets\n",
            "Epoch 15/100\n",
            "524/524 [==============================] - 95s 181ms/step - loss: 0.1748 - accuracy: 0.9268 - val_loss: 0.1666 - val_accuracy: 0.9307\n",
            "INFO:tensorflow:Assets written to: /content/drive/My Drive/model_checkpoint_gol/assets\n",
            "Epoch 16/100\n",
            "524/524 [==============================] - 95s 182ms/step - loss: 0.1736 - accuracy: 0.9273 - val_loss: 0.1665 - val_accuracy: 0.9308\n",
            "INFO:tensorflow:Assets written to: /content/drive/My Drive/model_checkpoint_gol/assets\n",
            "Epoch 17/100\n",
            "524/524 [==============================] - 95s 181ms/step - loss: 0.1736 - accuracy: 0.9273 - val_loss: 0.1660 - val_accuracy: 0.9311\n",
            "INFO:tensorflow:Assets written to: /content/drive/My Drive/model_checkpoint_gol/assets\n",
            "Epoch 18/100\n",
            "524/524 [==============================] - 95s 182ms/step - loss: 0.1730 - accuracy: 0.9276 - val_loss: 0.1657 - val_accuracy: 0.9312\n",
            "INFO:tensorflow:Assets written to: /content/drive/My Drive/model_checkpoint_gol/assets\n",
            "Epoch 19/100\n",
            "524/524 [==============================] - 95s 181ms/step - loss: 0.1736 - accuracy: 0.9274 - val_loss: 0.1666 - val_accuracy: 0.9309\n",
            "Epoch 20/100\n",
            "524/524 [==============================] - 95s 182ms/step - loss: 0.1733 - accuracy: 0.9276 - val_loss: 0.1653 - val_accuracy: 0.9314\n",
            "INFO:tensorflow:Assets written to: /content/drive/My Drive/model_checkpoint_gol/assets\n",
            "Epoch 21/100\n",
            "524/524 [==============================] - 95s 181ms/step - loss: 0.1723 - accuracy: 0.9280 - val_loss: 0.1650 - val_accuracy: 0.9316\n",
            "INFO:tensorflow:Assets written to: /content/drive/My Drive/model_checkpoint_gol/assets\n",
            "Epoch 22/100\n",
            "524/524 [==============================] - 95s 181ms/step - loss: 0.1730 - accuracy: 0.9277 - val_loss: 0.1651 - val_accuracy: 0.9316\n",
            "Epoch 23/100\n",
            "524/524 [==============================] - 95s 182ms/step - loss: 0.1727 - accuracy: 0.9278 - val_loss: 0.1652 - val_accuracy: 0.9315\n",
            "Epoch 24/100\n",
            "524/524 [==============================] - 95s 181ms/step - loss: 0.1724 - accuracy: 0.9280 - val_loss: 0.1647 - val_accuracy: 0.9317\n",
            "INFO:tensorflow:Assets written to: /content/drive/My Drive/model_checkpoint_gol/assets\n",
            "Epoch 25/100\n",
            "524/524 [==============================] - 95s 181ms/step - loss: 0.1728 - accuracy: 0.9279 - val_loss: 0.1649 - val_accuracy: 0.9316\n",
            "Epoch 26/100\n",
            "524/524 [==============================] - 95s 182ms/step - loss: 0.1720 - accuracy: 0.9282 - val_loss: 0.1713 - val_accuracy: 0.9295\n",
            "Epoch 27/100\n",
            "524/524 [==============================] - 95s 182ms/step - loss: 0.1741 - accuracy: 0.9273 - val_loss: 0.1702 - val_accuracy: 0.9306\n",
            "Epoch 28/100\n",
            "524/524 [==============================] - 95s 182ms/step - loss: 0.1764 - accuracy: 0.9272 - val_loss: 0.1649 - val_accuracy: 0.9317\n",
            "Epoch 29/100\n",
            "524/524 [==============================] - 95s 182ms/step - loss: 0.1723 - accuracy: 0.9281 - val_loss: 0.1649 - val_accuracy: 0.9317\n",
            "Epoch 30/100\n",
            "524/524 [==============================] - 95s 181ms/step - loss: 0.1720 - accuracy: 0.9282 - val_loss: 0.1645 - val_accuracy: 0.9319\n",
            "INFO:tensorflow:Assets written to: /content/drive/My Drive/model_checkpoint_gol/assets\n",
            "Epoch 31/100\n",
            "524/524 [==============================] - 95s 182ms/step - loss: 0.1716 - accuracy: 0.9284 - val_loss: 0.1645 - val_accuracy: 0.9318\n",
            "Epoch 32/100\n",
            "524/524 [==============================] - 95s 182ms/step - loss: 0.1718 - accuracy: 0.9284 - val_loss: 0.1642 - val_accuracy: 0.9320\n",
            "INFO:tensorflow:Assets written to: /content/drive/My Drive/model_checkpoint_gol/assets\n",
            "Epoch 33/100\n",
            "524/524 [==============================] - 95s 182ms/step - loss: 0.1722 - accuracy: 0.9283 - val_loss: 0.1641 - val_accuracy: 0.9321\n",
            "INFO:tensorflow:Assets written to: /content/drive/My Drive/model_checkpoint_gol/assets\n",
            "Epoch 34/100\n",
            "524/524 [==============================] - 95s 182ms/step - loss: 0.1725 - accuracy: 0.9281 - val_loss: 0.1642 - val_accuracy: 0.9321\n",
            "INFO:tensorflow:Assets written to: /content/drive/My Drive/model_checkpoint_gol/assets\n",
            "Epoch 35/100\n",
            "524/524 [==============================] - 95s 181ms/step - loss: 0.1715 - accuracy: 0.9285 - val_loss: 0.1640 - val_accuracy: 0.9321\n",
            "INFO:tensorflow:Assets written to: /content/drive/My Drive/model_checkpoint_gol/assets\n",
            "Epoch 36/100\n",
            "524/524 [==============================] - 95s 182ms/step - loss: 0.1710 - accuracy: 0.9287 - val_loss: 0.1640 - val_accuracy: 0.9321\n",
            "Epoch 37/100\n",
            "524/524 [==============================] - 95s 182ms/step - loss: 0.1712 - accuracy: 0.9286 - val_loss: 0.1638 - val_accuracy: 0.9322\n",
            "INFO:tensorflow:Assets written to: /content/drive/My Drive/model_checkpoint_gol/assets\n",
            "Epoch 38/100\n",
            "524/524 [==============================] - 95s 181ms/step - loss: 0.1714 - accuracy: 0.9285 - val_loss: 0.1637 - val_accuracy: 0.9322\n",
            "INFO:tensorflow:Assets written to: /content/drive/My Drive/model_checkpoint_gol/assets\n",
            "Epoch 39/100\n",
            "524/524 [==============================] - 95s 181ms/step - loss: 0.1712 - accuracy: 0.9287 - val_loss: 0.1641 - val_accuracy: 0.9321\n",
            "Epoch 40/100\n",
            "524/524 [==============================] - 95s 182ms/step - loss: 0.1709 - accuracy: 0.9287 - val_loss: 0.1635 - val_accuracy: 0.9323\n",
            "INFO:tensorflow:Assets written to: /content/drive/My Drive/model_checkpoint_gol/assets\n",
            "Epoch 41/100\n",
            "524/524 [==============================] - 95s 182ms/step - loss: 0.1704 - accuracy: 0.9290 - val_loss: 0.1637 - val_accuracy: 0.9322\n",
            "Epoch 42/100\n",
            "524/524 [==============================] - 95s 182ms/step - loss: 0.1707 - accuracy: 0.9289 - val_loss: 0.1637 - val_accuracy: 0.9322\n",
            "Epoch 43/100\n",
            "524/524 [==============================] - 95s 182ms/step - loss: 0.1712 - accuracy: 0.9287 - val_loss: 0.1635 - val_accuracy: 0.9323\n",
            "INFO:tensorflow:Assets written to: /content/drive/My Drive/model_checkpoint_gol/assets\n",
            "Epoch 44/100\n",
            "524/524 [==============================] - 95s 181ms/step - loss: 0.1733 - accuracy: 0.9278 - val_loss: 0.1640 - val_accuracy: 0.9322\n",
            "Epoch 45/100\n",
            "524/524 [==============================] - 95s 182ms/step - loss: 0.1708 - accuracy: 0.9289 - val_loss: 0.1635 - val_accuracy: 0.9324\n",
            "INFO:tensorflow:Assets written to: /content/drive/My Drive/model_checkpoint_gol/assets\n",
            "Epoch 46/100\n",
            "524/524 [==============================] - 95s 182ms/step - loss: 0.1711 - accuracy: 0.9287 - val_loss: 0.1633 - val_accuracy: 0.9325\n",
            "INFO:tensorflow:Assets written to: /content/drive/My Drive/model_checkpoint_gol/assets\n",
            "Epoch 47/100\n",
            "524/524 [==============================] - 95s 182ms/step - loss: 0.1710 - accuracy: 0.9288 - val_loss: 0.1633 - val_accuracy: 0.9324\n",
            "Epoch 48/100\n",
            "524/524 [==============================] - 95s 182ms/step - loss: 0.1706 - accuracy: 0.9289 - val_loss: 0.1636 - val_accuracy: 0.9323\n",
            "Epoch 49/100\n",
            "524/524 [==============================] - 95s 182ms/step - loss: 0.1704 - accuracy: 0.9291 - val_loss: 0.1633 - val_accuracy: 0.9325\n",
            "INFO:tensorflow:Assets written to: /content/drive/My Drive/model_checkpoint_gol/assets\n",
            "Epoch 50/100\n",
            "524/524 [==============================] - 95s 182ms/step - loss: 0.1697 - accuracy: 0.9294 - val_loss: 0.1633 - val_accuracy: 0.9325\n",
            "Epoch 51/100\n",
            "524/524 [==============================] - 95s 182ms/step - loss: 0.1715 - accuracy: 0.9286 - val_loss: 0.1632 - val_accuracy: 0.9325\n",
            "INFO:tensorflow:Assets written to: /content/drive/My Drive/model_checkpoint_gol/assets\n",
            "Epoch 52/100\n",
            "524/524 [==============================] - 95s 182ms/step - loss: 0.1705 - accuracy: 0.9291 - val_loss: 0.1632 - val_accuracy: 0.9325\n",
            "INFO:tensorflow:Assets written to: /content/drive/My Drive/model_checkpoint_gol/assets\n",
            "Epoch 53/100\n",
            "524/524 [==============================] - 95s 182ms/step - loss: 0.1704 - accuracy: 0.9291 - val_loss: 0.1630 - val_accuracy: 0.9326\n",
            "INFO:tensorflow:Assets written to: /content/drive/My Drive/model_checkpoint_gol/assets\n",
            "Epoch 54/100\n",
            "524/524 [==============================] - 96s 182ms/step - loss: 0.1703 - accuracy: 0.9291 - val_loss: 0.1631 - val_accuracy: 0.9326\n",
            "Epoch 55/100\n",
            "524/524 [==============================] - 95s 182ms/step - loss: 0.1698 - accuracy: 0.9294 - val_loss: 0.1628 - val_accuracy: 0.9327\n",
            "INFO:tensorflow:Assets written to: /content/drive/My Drive/model_checkpoint_gol/assets\n",
            "Epoch 56/100\n",
            "524/524 [==============================] - 96s 182ms/step - loss: 0.1702 - accuracy: 0.9292 - val_loss: 0.1630 - val_accuracy: 0.9326\n",
            "Epoch 57/100\n",
            "524/524 [==============================] - 95s 182ms/step - loss: 0.1701 - accuracy: 0.9292 - val_loss: 0.1629 - val_accuracy: 0.9326\n",
            "Epoch 58/100\n",
            "524/524 [==============================] - 96s 182ms/step - loss: 0.1696 - accuracy: 0.9294 - val_loss: 0.1628 - val_accuracy: 0.9327\n",
            "INFO:tensorflow:Assets written to: /content/drive/My Drive/model_checkpoint_gol/assets\n",
            "Epoch 59/100\n",
            "524/524 [==============================] - 95s 182ms/step - loss: 0.1701 - accuracy: 0.9292 - val_loss: 0.1637 - val_accuracy: 0.9323\n",
            "Epoch 60/100\n",
            "524/524 [==============================] - 95s 182ms/step - loss: 0.1707 - accuracy: 0.9290 - val_loss: 0.1632 - val_accuracy: 0.9325\n",
            "Epoch 61/100\n",
            "524/524 [==============================] - 95s 182ms/step - loss: 0.1703 - accuracy: 0.9291 - val_loss: 0.1629 - val_accuracy: 0.9326\n",
            "Epoch 62/100\n",
            "524/524 [==============================] - 95s 182ms/step - loss: 0.1696 - accuracy: 0.9294 - val_loss: 0.1629 - val_accuracy: 0.9327\n",
            "Epoch 63/100\n",
            "524/524 [==============================] - 95s 182ms/step - loss: 0.1702 - accuracy: 0.9292 - val_loss: 0.1628 - val_accuracy: 0.9327\n",
            "INFO:tensorflow:Assets written to: /content/drive/My Drive/model_checkpoint_gol/assets\n",
            "Epoch 64/100\n",
            "524/524 [==============================] - 96s 182ms/step - loss: 0.1696 - accuracy: 0.9295 - val_loss: 0.1629 - val_accuracy: 0.9327\n",
            "Epoch 65/100\n",
            "524/524 [==============================] - 95s 182ms/step - loss: 0.1699 - accuracy: 0.9293 - val_loss: 0.1628 - val_accuracy: 0.9327\n",
            "Epoch 66/100\n",
            "524/524 [==============================] - 95s 182ms/step - loss: 0.1702 - accuracy: 0.9292 - val_loss: 0.1626 - val_accuracy: 0.9328\n",
            "INFO:tensorflow:Assets written to: /content/drive/My Drive/model_checkpoint_gol/assets\n",
            "Epoch 67/100\n",
            "524/524 [==============================] - 96s 182ms/step - loss: 0.1699 - accuracy: 0.9293 - val_loss: 0.1626 - val_accuracy: 0.9328\n",
            "Epoch 68/100\n",
            "524/524 [==============================] - 95s 182ms/step - loss: 0.1693 - accuracy: 0.9296 - val_loss: 0.1627 - val_accuracy: 0.9327\n",
            "Epoch 69/100\n",
            "524/524 [==============================] - 95s 182ms/step - loss: 0.1700 - accuracy: 0.9293 - val_loss: 0.1626 - val_accuracy: 0.9328\n",
            "INFO:tensorflow:Assets written to: /content/drive/My Drive/model_checkpoint_gol/assets\n",
            "Epoch 70/100\n",
            "524/524 [==============================] - 96s 182ms/step - loss: 0.1692 - accuracy: 0.9296 - val_loss: 0.1627 - val_accuracy: 0.9327\n",
            "Epoch 71/100\n",
            "524/524 [==============================] - 95s 182ms/step - loss: 0.1692 - accuracy: 0.9297 - val_loss: 0.1628 - val_accuracy: 0.9327\n",
            "Epoch 72/100\n",
            "524/524 [==============================] - 95s 182ms/step - loss: 0.1694 - accuracy: 0.9295 - val_loss: 0.1625 - val_accuracy: 0.9328\n",
            "INFO:tensorflow:Assets written to: /content/drive/My Drive/model_checkpoint_gol/assets\n",
            "Epoch 73/100\n",
            "524/524 [==============================] - 95s 181ms/step - loss: 0.1699 - accuracy: 0.9293 - val_loss: 0.1673 - val_accuracy: 0.9312\n",
            "Epoch 74/100\n",
            "524/524 [==============================] - 95s 181ms/step - loss: 0.1718 - accuracy: 0.9285 - val_loss: 0.1629 - val_accuracy: 0.9326\n",
            "Epoch 75/100\n",
            "524/524 [==============================] - 95s 181ms/step - loss: 0.1701 - accuracy: 0.9293 - val_loss: 0.1627 - val_accuracy: 0.9327\n",
            "Epoch 76/100\n",
            "524/524 [==============================] - 95s 181ms/step - loss: 0.1699 - accuracy: 0.9293 - val_loss: 0.1626 - val_accuracy: 0.9328\n",
            "Epoch 77/100\n",
            "524/524 [==============================] - 95s 181ms/step - loss: 0.1694 - accuracy: 0.9296 - val_loss: 0.1624 - val_accuracy: 0.9328\n",
            "INFO:tensorflow:Assets written to: /content/drive/My Drive/model_checkpoint_gol/assets\n",
            "Epoch 78/100\n",
            "524/524 [==============================] - 95s 181ms/step - loss: 0.1690 - accuracy: 0.9298 - val_loss: 0.1625 - val_accuracy: 0.9328\n",
            "Epoch 79/100\n",
            "524/524 [==============================] - 95s 181ms/step - loss: 0.1699 - accuracy: 0.9294 - val_loss: 0.1624 - val_accuracy: 0.9329\n",
            "INFO:tensorflow:Assets written to: /content/drive/My Drive/model_checkpoint_gol/assets\n",
            "Epoch 80/100\n",
            "524/524 [==============================] - 95s 181ms/step - loss: 0.1691 - accuracy: 0.9297 - val_loss: 0.1626 - val_accuracy: 0.9328\n",
            "Epoch 81/100\n",
            "524/524 [==============================] - 95s 181ms/step - loss: 0.1697 - accuracy: 0.9294 - val_loss: 0.1626 - val_accuracy: 0.9328\n",
            "Epoch 82/100\n",
            "524/524 [==============================] - 95s 181ms/step - loss: 0.1697 - accuracy: 0.9295 - val_loss: 0.1626 - val_accuracy: 0.9328\n",
            "Epoch 83/100\n",
            "524/524 [==============================] - 95s 181ms/step - loss: 0.1700 - accuracy: 0.9293 - val_loss: 0.1626 - val_accuracy: 0.9328\n",
            "Epoch 84/100\n",
            "524/524 [==============================] - 95s 181ms/step - loss: 0.1688 - accuracy: 0.9297 - val_loss: 0.1628 - val_accuracy: 0.9327\n",
            "Epoch 85/100\n",
            "524/524 [==============================] - 95s 181ms/step - loss: 0.1698 - accuracy: 0.9294 - val_loss: 0.1625 - val_accuracy: 0.9329\n",
            "Epoch 86/100\n",
            "524/524 [==============================] - 95s 181ms/step - loss: 0.1693 - accuracy: 0.9296 - val_loss: 0.1625 - val_accuracy: 0.9329\n",
            "Epoch 87/100\n",
            "524/524 [==============================] - 95s 181ms/step - loss: 0.1689 - accuracy: 0.9297 - val_loss: 0.1624 - val_accuracy: 0.9329\n",
            "INFO:tensorflow:Assets written to: /content/drive/My Drive/model_checkpoint_gol/assets\n",
            "Epoch 88/100\n",
            "524/524 [==============================] - 95s 182ms/step - loss: 0.1701 - accuracy: 0.9293 - val_loss: 0.1637 - val_accuracy: 0.9324\n",
            "Epoch 89/100\n",
            "524/524 [==============================] - 96s 182ms/step - loss: 0.1697 - accuracy: 0.9294 - val_loss: 0.1634 - val_accuracy: 0.9324\n",
            "Epoch 90/100\n",
            "524/524 [==============================] - 95s 182ms/step - loss: 0.1703 - accuracy: 0.9291 - val_loss: 0.1628 - val_accuracy: 0.9327\n",
            "Epoch 91/100\n",
            "524/524 [==============================] - 95s 182ms/step - loss: 0.1696 - accuracy: 0.9295 - val_loss: 0.1624 - val_accuracy: 0.9329\n",
            "Epoch 92/100\n",
            "524/524 [==============================] - 95s 182ms/step - loss: 0.1698 - accuracy: 0.9294 - val_loss: 0.1622 - val_accuracy: 0.9330\n",
            "INFO:tensorflow:Assets written to: /content/drive/My Drive/model_checkpoint_gol/assets\n",
            "Epoch 93/100\n",
            "524/524 [==============================] - 95s 182ms/step - loss: 0.1691 - accuracy: 0.9297 - val_loss: 0.1624 - val_accuracy: 0.9329\n",
            "Epoch 94/100\n",
            "524/524 [==============================] - 95s 182ms/step - loss: 0.1695 - accuracy: 0.9296 - val_loss: 0.1622 - val_accuracy: 0.9330\n",
            "INFO:tensorflow:Assets written to: /content/drive/My Drive/model_checkpoint_gol/assets\n",
            "Epoch 95/100\n",
            "524/524 [==============================] - 95s 182ms/step - loss: 0.1694 - accuracy: 0.9296 - val_loss: 0.1628 - val_accuracy: 0.9328\n",
            "Epoch 96/100\n",
            "524/524 [==============================] - 95s 182ms/step - loss: 0.1691 - accuracy: 0.9298 - val_loss: 0.1624 - val_accuracy: 0.9330\n",
            "Epoch 97/100\n",
            "524/524 [==============================] - 95s 182ms/step - loss: 0.1693 - accuracy: 0.9296 - val_loss: 0.1623 - val_accuracy: 0.9329\n",
            "Epoch 98/100\n",
            "524/524 [==============================] - 95s 182ms/step - loss: 0.1689 - accuracy: 0.9298 - val_loss: 0.1622 - val_accuracy: 0.9330\n",
            "INFO:tensorflow:Assets written to: /content/drive/My Drive/model_checkpoint_gol/assets\n",
            "Epoch 99/100\n",
            "524/524 [==============================] - 95s 182ms/step - loss: 0.1690 - accuracy: 0.9298 - val_loss: 0.1623 - val_accuracy: 0.9329\n",
            "Epoch 100/100\n",
            "524/524 [==============================] - 95s 182ms/step - loss: 0.1690 - accuracy: 0.9298 - val_loss: 0.1623 - val_accuracy: 0.9330\n"
          ],
          "name": "stdout"
        }
      ]
    },
    {
      "cell_type": "code",
      "metadata": {
        "colab": {
          "base_uri": "https://localhost:8080/"
        },
        "id": "WuraDEzYZWxV",
        "outputId": "ee3fd047-8917-412a-d45b-2f28f8250022"
      },
      "source": [
        "Model.summary()"
      ],
      "execution_count": null,
      "outputs": [
        {
          "output_type": "stream",
          "text": [
            "Model: \"sequential\"\n",
            "_________________________________________________________________\n",
            "Layer (type)                 Output Shape              Param #   \n",
            "=================================================================\n",
            "conv_layer1 (Conv2D)         (None, 25, 25, 256)       2560      \n",
            "_________________________________________________________________\n",
            "dropout (Dropout)            (None, 25, 25, 256)       0         \n",
            "_________________________________________________________________\n",
            "conv2d (Conv2D)              (None, 25, 25, 128)       295040    \n",
            "_________________________________________________________________\n",
            "dropout_1 (Dropout)          (None, 25, 25, 128)       0         \n",
            "_________________________________________________________________\n",
            "conv2d_1 (Conv2D)            (None, 25, 25, 256)       295168    \n",
            "_________________________________________________________________\n",
            "dropout_2 (Dropout)          (None, 25, 25, 256)       0         \n",
            "_________________________________________________________________\n",
            "conv2d_2 (Conv2D)            (None, 25, 25, 128)       295040    \n",
            "_________________________________________________________________\n",
            "dropout_3 (Dropout)          (None, 25, 25, 128)       0         \n",
            "_________________________________________________________________\n",
            "conv2d_3 (Conv2D)            (None, 25, 25, 1)         129       \n",
            "=================================================================\n",
            "Total params: 887,937\n",
            "Trainable params: 887,937\n",
            "Non-trainable params: 0\n",
            "_________________________________________________________________\n"
          ],
          "name": "stdout"
        }
      ]
    },
    {
      "cell_type": "markdown",
      "metadata": {
        "id": "aivd5GZWZL3g"
      },
      "source": [
        "> Loading the model..."
      ]
    },
    {
      "cell_type": "code",
      "metadata": {
        "id": "Lgck1xuCZZsn"
      },
      "source": [
        "Model = tf.keras.models.load_model(\"/content/drive/My Drive/model_checkpoint_gol\")"
      ],
      "execution_count": null,
      "outputs": []
    },
    {
      "cell_type": "markdown",
      "metadata": {
        "id": "Wxd1uZagZpSL"
      },
      "source": [
        "> The model performs with 93 % accuracy on validation data."
      ]
    },
    {
      "cell_type": "code",
      "metadata": {
        "colab": {
          "base_uri": "https://localhost:8080/"
        },
        "id": "GmqOrLTxZVL-",
        "outputId": "c56d1a5c-bc6e-41b3-8583-901d18f2882c"
      },
      "source": [
        "Model.evaluate(X_test, Y_test)"
      ],
      "execution_count": null,
      "outputs": [
        {
          "output_type": "stream",
          "text": [
            "2063/2063 [==============================] - 14s 7ms/step - loss: 0.1622 - accuracy: 0.9330\n"
          ],
          "name": "stdout"
        },
        {
          "output_type": "execute_result",
          "data": {
            "text/plain": [
              "[0.16219547390937805, 0.9330182075500488]"
            ]
          },
          "metadata": {
            "tags": []
          },
          "execution_count": 18
        }
      ]
    },
    {
      "cell_type": "markdown",
      "metadata": {
        "id": "qF4fcPu9aQO0"
      },
      "source": [
        "> The model Loss converges quickly to a local minima and reaches an accuracy of 93%. In fact, it should be very hard to reach 100% accuracy since every pattern (and thus every generation) have thousands of possible parents(= parent generations that could reproduce the actual generation). As a result, the model may possibly predict a valid \"parent\" generation that doesn't match the data \"feature\" generation therefore get lower accuracy."
      ]
    },
    {
      "cell_type": "code",
      "metadata": {
        "id": "9jKCL52YrAqU",
        "colab": {
          "base_uri": "https://localhost:8080/",
          "height": 393
        },
        "outputId": "b9770ec9-5927-4eb6-ffc3-b2aa0089c2bb"
      },
      "source": [
        "loss = history.history['loss']\n",
        "val_loss = history.history['val_loss']\n",
        "accuracy = history.history['accuracy']\n",
        "val_accuracy = history.history['val_accuracy']\n",
        "epochs = range(len(loss))\n",
        "\n",
        "fig = plt.figure(figsize=(12,6))\n",
        "gs = fig.add_gridspec(1, 2)\n",
        "ax1 = fig.add_subplot(gs[0, 0])\n",
        "ax2 = fig.add_subplot(gs[0, 1])\n",
        "\n",
        "ax1.plot(epochs, loss, 'r', label='Training')\n",
        "ax1.plot(epochs, val_loss, 'b', label='Validation')\n",
        "ax1.set_xlabel('Epochs', size=16)\n",
        "ax1.set_ylabel('Loss', size=16)\n",
        "ax1.legend()\n",
        "\n",
        "ax2.plot(epochs, accuracy, 'r', label='Training')\n",
        "ax2.plot(epochs, val_accuracy, 'b', label='Validation')\n",
        "ax2.set_xlabel('Epochs', size=16)\n",
        "ax2.set_ylabel('Accuracy', size=16)\n",
        "ax2.legend()\n",
        "plt.show()"
      ],
      "execution_count": null,
      "outputs": [
        {
          "output_type": "display_data",
          "data": {
            "image/png": "[encoded data removed]",
            "text/plain": [
              "<Figure size 864x432 with 2 Axes>"
            ]
          },
          "metadata": {
            "tags": [],
            "needs_background": "light"
          }
        }
      ]
    },
    {
      "cell_type": "markdown",
      "metadata": {
        "id": "4nwXSpf7iPc0"
      },
      "source": [
        "> The model successfully predicts previous states of oscillating and static patterns such as gliders, blinkers, blocks... However, as soon as patterns get complex prediction become invalid as we can see in the last sample board. Single cells may randomly appear in parent board : the model predictions don't follow GOL rules.\n",
        "We can confirm this by using forward GOL model on predicted parent boards and see whether the output matches label boards."
      ]
    },
    {
      "cell_type": "code",
      "metadata": {
        "id": "OKYtOPi8rg3I",
        "colab": {
          "base_uri": "https://localhost:8080/",
          "height": 829
        },
        "outputId": "b7185f6d-61f2-41df-941e-816893b40a34"
      },
      "source": [
        "for example in range(len(X_train[50:55])):\n",
        "\n",
        "    img_sample = X_test[example]\n",
        "    out_sample = Y_test[example]\n",
        "\n",
        "    Model.evaluate(img_sample.reshape((-1, 25, 25, 1)), out_sample.reshape((-1, 25, 25, 1)))\n",
        "    predicted = Model.predict(X_test[example].reshape((-1, 25, 25, 1)))\n",
        "\n",
        "    fig, (ax1, ax2, ax3) = plt.subplots(1, 3)\n",
        "\n",
        "    ax1.imshow((img_sample.reshape(25, 25)), cmap=\"gray\")\n",
        "    ax1.set_title(\"Start Setting\")\n",
        "\n",
        "    ax2.imshow((out_sample.reshape(25, 25)), cmap=\"gray\")\n",
        "    ax2.set_title(\"Stop Setting\")\n",
        "\n",
        "    ax3.imshow((predicted.reshape(25, 25) >= 0.5), cmap=\"gray\")\n",
        "    ax3.set_title(\"Predicted Setting\")\n",
        "    plt.show()"
      ],
      "execution_count": null,
      "outputs": [
        {
          "output_type": "stream",
          "text": [
            "1/1 [==============================] - 0s 61ms/step - loss: 0.0332 - accuracy: 0.9904\n"
          ],
          "name": "stdout"
        },
        {
          "output_type": "display_data",
          "data": {
            "image/png": "[encoded data removed]",
            "text/plain": [
              "<Figure size 432x288 with 3 Axes>"
            ]
          },
          "metadata": {
            "tags": [],
            "needs_background": "light"
          }
        },
        {
          "output_type": "stream",
          "text": [
            "1/1 [==============================] - 0s 15ms/step - loss: 0.2189 - accuracy: 0.9456\n"
          ],
          "name": "stdout"
        },
        {
          "output_type": "display_data",
          "data": {
            "image/png": "[encoded data removed]",
            "text/plain": [
              "<Figure size 432x288 with 3 Axes>"
            ]
          },
          "metadata": {
            "tags": [],
            "needs_background": "light"
          }
        },
        {
          "output_type": "stream",
          "text": [
            "1/1 [==============================] - 0s 15ms/step - loss: 0.1656 - accuracy: 0.9408\n"
          ],
          "name": "stdout"
        },
        {
          "output_type": "display_data",
          "data": {
            "image/png": "[encoded data removed]",
            "text/plain": [
              "<Figure size 432x288 with 3 Axes>"
            ]
          },
          "metadata": {
            "tags": [],
            "needs_background": "light"
          }
        },
        {
          "output_type": "stream",
          "text": [
            "1/1 [==============================] - 0s 15ms/step - loss: 0.3438 - accuracy: 0.8624\n"
          ],
          "name": "stdout"
        },
        {
          "output_type": "display_data",
          "data": {
            "image/png": "[encoded data removed]",
            "text/plain": [
              "<Figure size 432x288 with 3 Axes>"
            ]
          },
          "metadata": {
            "tags": [],
            "needs_background": "light"
          }
        },
        {
          "output_type": "stream",
          "text": [
            "1/1 [==============================] - 0s 14ms/step - loss: 0.1635 - accuracy: 0.9232\n"
          ],
          "name": "stdout"
        },
        {
          "output_type": "display_data",
          "data": {
            "image/png": "[encoded data removed]",
            "text/plain": [
              "<Figure size 432x288 with 3 Axes>"
            ]
          },
          "metadata": {
            "tags": [],
            "needs_background": "light"
          }
        }
      ]
    },
    {
      "cell_type": "code",
      "metadata": {
        "id": "44dXqD0pY-c_"
      },
      "source": [
        "tf.keras.models.save_model(Model, '/content/drive/MyDrive/reverse_gol_model')"
      ],
      "execution_count": null,
      "outputs": []
    }
  ]
}