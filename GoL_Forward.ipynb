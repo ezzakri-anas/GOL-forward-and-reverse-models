{
  "nbformat": 4,
  "nbformat_minor": 0,
  "metadata": {
    "colab": {
      "name": "GoL_Forward.ipynb",
      "provenance": [],
      "collapsed_sections": []
    },
    "kernelspec": {
      "name": "python3",
      "display_name": "Python 3"
    },
    "accelerator": "GPU"
  },
  "cells": [
    {
      "cell_type": "markdown",
      "metadata": {
        "id": "zcegd_pLT1LN"
      },
      "source": [
        "> Installing required packages..."
      ]
    },
    {
      "cell_type": "code",
      "metadata": {
        "id": "dsSzLsW8kAZo",
        "colab": {
          "base_uri": "https://localhost:8080/"
        },
        "outputId": "78500023-a4d1-45b4-d3c8-54d68ad0922e"
      },
      "source": [
        "²!pip install tensorflow\n",
        "!pip install tensorflowjs\n",
        "!pip install numpy\n",
        "!pip install matplotlib\n",
        "!pip install rarfile\n",
        "!pip install sklearn"
      ],
      "execution_count": null,
      "outputs": [
        {
          "output_type": "stream",
          "text": [
            "Requirement already satisfied: tensorflow in /usr/local/lib/python3.6/dist-packages (2.4.0)\n",
            "Requirement already satisfied: protobuf>=3.9.2 in /usr/local/lib/python3.6/dist-packages (from tensorflow) (3.12.4)\n",
            "Requirement already satisfied: tensorboard~=2.4 in /usr/local/lib/python3.6/dist-packages (from tensorflow) (2.4.0)\n",
            "Requirement already satisfied: keras-preprocessing~=1.1.2 in /usr/local/lib/python3.6/dist-packages (from tensorflow) (1.1.2)\n",
            "Requirement already satisfied: h5py~=2.10.0 in /usr/local/lib/python3.6/dist-packages (from tensorflow) (2.10.0)\n",
            "Requirement already satisfied: numpy~=1.19.2 in /usr/local/lib/python3.6/dist-packages (from tensorflow) (1.19.5)\n",
            "Requirement already satisfied: absl-py~=0.10 in /usr/local/lib/python3.6/dist-packages (from tensorflow) (0.10.0)\n",
            "Requirement already satisfied: google-pasta~=0.2 in /usr/local/lib/python3.6/dist-packages (from tensorflow) (0.2.0)\n",
            "Requirement already satisfied: termcolor~=1.1.0 in /usr/local/lib/python3.6/dist-packages (from tensorflow) (1.1.0)\n",
            "Requirement already satisfied: typing-extensions~=3.7.4 in /usr/local/lib/python3.6/dist-packages (from tensorflow) (3.7.4.3)\n",
            "Requirement already satisfied: astunparse~=1.6.3 in /usr/local/lib/python3.6/dist-packages (from tensorflow) (1.6.3)\n",
            "Requirement already satisfied: grpcio~=1.32.0 in /usr/local/lib/python3.6/dist-packages (from tensorflow) (1.32.0)\n",
            "Requirement already satisfied: opt-einsum~=3.3.0 in /usr/local/lib/python3.6/dist-packages (from tensorflow) (3.3.0)\n",
            "Requirement already satisfied: wheel~=0.35 in /usr/local/lib/python3.6/dist-packages (from tensorflow) (0.36.2)\n",
            "Requirement already satisfied: wrapt~=1.12.1 in /usr/local/lib/python3.6/dist-packages (from tensorflow) (1.12.1)\n",
            "Requirement already satisfied: tensorflow-estimator<2.5.0,>=2.4.0rc0 in /usr/local/lib/python3.6/dist-packages (from tensorflow) (2.4.0)\n",
            "Requirement already satisfied: gast==0.3.3 in /usr/local/lib/python3.6/dist-packages (from tensorflow) (0.3.3)\n",
            "Requirement already satisfied: six~=1.15.0 in /usr/local/lib/python3.6/dist-packages (from tensorflow) (1.15.0)\n",
            "Requirement already satisfied: flatbuffers~=1.12.0 in /usr/local/lib/python3.6/dist-packages (from tensorflow) (1.12)\n",
            "Requirement already satisfied: setuptools in /usr/local/lib/python3.6/dist-packages (from protobuf>=3.9.2->tensorflow) (51.3.3)\n",
            "Requirement already satisfied: markdown>=2.6.8 in /usr/local/lib/python3.6/dist-packages (from tensorboard~=2.4->tensorflow) (3.3.3)\n",
            "Requirement already satisfied: tensorboard-plugin-wit>=1.6.0 in /usr/local/lib/python3.6/dist-packages (from tensorboard~=2.4->tensorflow) (1.7.0)\n",
            "Requirement already satisfied: google-auth<2,>=1.6.3 in /usr/local/lib/python3.6/dist-packages (from tensorboard~=2.4->tensorflow) (1.17.2)\n",
            "Requirement already satisfied: google-auth-oauthlib<0.5,>=0.4.1 in /usr/local/lib/python3.6/dist-packages (from tensorboard~=2.4->tensorflow) (0.4.2)\n",
            "Requirement already satisfied: werkzeug>=0.11.15 in /usr/local/lib/python3.6/dist-packages (from tensorboard~=2.4->tensorflow) (1.0.1)\n",
            "Requirement already satisfied: requests<3,>=2.21.0 in /usr/local/lib/python3.6/dist-packages (from tensorboard~=2.4->tensorflow) (2.23.0)\n",
            "Requirement already satisfied: importlib-metadata; python_version < \"3.8\" in /usr/local/lib/python3.6/dist-packages (from markdown>=2.6.8->tensorboard~=2.4->tensorflow) (3.3.0)\n",
            "Requirement already satisfied: cachetools<5.0,>=2.0.0 in /usr/local/lib/python3.6/dist-packages (from google-auth<2,>=1.6.3->tensorboard~=2.4->tensorflow) (4.2.0)\n",
            "Requirement already satisfied: rsa<5,>=3.1.4; python_version >= \"3\" in /usr/local/lib/python3.6/dist-packages (from google-auth<2,>=1.6.3->tensorboard~=2.4->tensorflow) (4.6)\n",
            "Requirement already satisfied: pyasn1-modules>=0.2.1 in /usr/local/lib/python3.6/dist-packages (from google-auth<2,>=1.6.3->tensorboard~=2.4->tensorflow) (0.2.8)\n",
            "Requirement already satisfied: requests-oauthlib>=0.7.0 in /usr/local/lib/python3.6/dist-packages (from google-auth-oauthlib<0.5,>=0.4.1->tensorboard~=2.4->tensorflow) (1.3.0)\n",
            "Requirement already satisfied: urllib3!=1.25.0,!=1.25.1,<1.26,>=1.21.1 in /usr/local/lib/python3.6/dist-packages (from requests<3,>=2.21.0->tensorboard~=2.4->tensorflow) (1.24.3)\n",
            "Requirement already satisfied: idna<3,>=2.5 in /usr/local/lib/python3.6/dist-packages (from requests<3,>=2.21.0->tensorboard~=2.4->tensorflow) (2.10)\n",
            "Requirement already satisfied: chardet<4,>=3.0.2 in /usr/local/lib/python3.6/dist-packages (from requests<3,>=2.21.0->tensorboard~=2.4->tensorflow) (3.0.4)\n",
            "Requirement already satisfied: certifi>=2017.4.17 in /usr/local/lib/python3.6/dist-packages (from requests<3,>=2.21.0->tensorboard~=2.4->tensorflow) (2020.12.5)\n",
            "Requirement already satisfied: zipp>=0.5 in /usr/local/lib/python3.6/dist-packages (from importlib-metadata; python_version < \"3.8\"->markdown>=2.6.8->tensorboard~=2.4->tensorflow) (3.4.0)\n",
            "Requirement already satisfied: pyasn1>=0.1.3 in /usr/local/lib/python3.6/dist-packages (from rsa<5,>=3.1.4; python_version >= \"3\"->google-auth<2,>=1.6.3->tensorboard~=2.4->tensorflow) (0.4.8)\n",
            "Requirement already satisfied: oauthlib>=3.0.0 in /usr/local/lib/python3.6/dist-packages (from requests-oauthlib>=0.7.0->google-auth-oauthlib<0.5,>=0.4.1->tensorboard~=2.4->tensorflow) (3.1.0)\n",
            "Requirement already satisfied: tensorflowjs in /usr/local/lib/python3.6/dist-packages (2.8.5)\n",
            "Requirement already satisfied: six<2,>=1.12.0 in /usr/local/lib/python3.6/dist-packages (from tensorflowjs) (1.15.0)\n",
            "Requirement already satisfied: h5py<3,>=2.8.0 in /usr/local/lib/python3.6/dist-packages (from tensorflowjs) (2.10.0)\n",
            "Requirement already satisfied: tensorflow<3,>=2.1.0 in /usr/local/lib/python3.6/dist-packages (from tensorflowjs) (2.4.0)\n",
            "Requirement already satisfied: tensorflow-hub<0.10,>=0.7.0 in /usr/local/lib/python3.6/dist-packages (from tensorflowjs) (0.9.0)\n",
            "Requirement already satisfied: numpy>=1.7 in /usr/local/lib/python3.6/dist-packages (from h5py<3,>=2.8.0->tensorflowjs) (1.19.5)\n",
            "Requirement already satisfied: tensorflow-estimator<2.5.0,>=2.4.0rc0 in /usr/local/lib/python3.6/dist-packages (from tensorflow<3,>=2.1.0->tensorflowjs) (2.4.0)\n",
            "Requirement already satisfied: astunparse~=1.6.3 in /usr/local/lib/python3.6/dist-packages (from tensorflow<3,>=2.1.0->tensorflowjs) (1.6.3)\n",
            "Requirement already satisfied: opt-einsum~=3.3.0 in /usr/local/lib/python3.6/dist-packages (from tensorflow<3,>=2.1.0->tensorflowjs) (3.3.0)\n",
            "Requirement already satisfied: gast==0.3.3 in /usr/local/lib/python3.6/dist-packages (from tensorflow<3,>=2.1.0->tensorflowjs) (0.3.3)\n",
            "Requirement already satisfied: flatbuffers~=1.12.0 in /usr/local/lib/python3.6/dist-packages (from tensorflow<3,>=2.1.0->tensorflowjs) (1.12)\n",
            "Requirement already satisfied: keras-preprocessing~=1.1.2 in /usr/local/lib/python3.6/dist-packages (from tensorflow<3,>=2.1.0->tensorflowjs) (1.1.2)\n",
            "Requirement already satisfied: absl-py~=0.10 in /usr/local/lib/python3.6/dist-packages (from tensorflow<3,>=2.1.0->tensorflowjs) (0.10.0)\n",
            "Requirement already satisfied: protobuf>=3.9.2 in /usr/local/lib/python3.6/dist-packages (from tensorflow<3,>=2.1.0->tensorflowjs) (3.12.4)\n",
            "Requirement already satisfied: wrapt~=1.12.1 in /usr/local/lib/python3.6/dist-packages (from tensorflow<3,>=2.1.0->tensorflowjs) (1.12.1)\n",
            "Requirement already satisfied: google-pasta~=0.2 in /usr/local/lib/python3.6/dist-packages (from tensorflow<3,>=2.1.0->tensorflowjs) (0.2.0)\n",
            "Requirement already satisfied: tensorboard~=2.4 in /usr/local/lib/python3.6/dist-packages (from tensorflow<3,>=2.1.0->tensorflowjs) (2.4.0)\n",
            "Requirement already satisfied: wheel~=0.35 in /usr/local/lib/python3.6/dist-packages (from tensorflow<3,>=2.1.0->tensorflowjs) (0.36.2)\n",
            "Requirement already satisfied: grpcio~=1.32.0 in /usr/local/lib/python3.6/dist-packages (from tensorflow<3,>=2.1.0->tensorflowjs) (1.32.0)\n",
            "Requirement already satisfied: typing-extensions~=3.7.4 in /usr/local/lib/python3.6/dist-packages (from tensorflow<3,>=2.1.0->tensorflowjs) (3.7.4.3)\n",
            "Requirement already satisfied: termcolor~=1.1.0 in /usr/local/lib/python3.6/dist-packages (from tensorflow<3,>=2.1.0->tensorflowjs) (1.1.0)\n",
            "Requirement already satisfied: setuptools in /usr/local/lib/python3.6/dist-packages (from protobuf>=3.9.2->tensorflow<3,>=2.1.0->tensorflowjs) (51.3.3)\n",
            "Requirement already satisfied: tensorboard-plugin-wit>=1.6.0 in /usr/local/lib/python3.6/dist-packages (from tensorboard~=2.4->tensorflow<3,>=2.1.0->tensorflowjs) (1.7.0)\n",
            "Requirement already satisfied: google-auth<2,>=1.6.3 in /usr/local/lib/python3.6/dist-packages (from tensorboard~=2.4->tensorflow<3,>=2.1.0->tensorflowjs) (1.17.2)\n",
            "Requirement already satisfied: markdown>=2.6.8 in /usr/local/lib/python3.6/dist-packages (from tensorboard~=2.4->tensorflow<3,>=2.1.0->tensorflowjs) (3.3.3)\n",
            "Requirement already satisfied: requests<3,>=2.21.0 in /usr/local/lib/python3.6/dist-packages (from tensorboard~=2.4->tensorflow<3,>=2.1.0->tensorflowjs) (2.23.0)\n",
            "Requirement already satisfied: werkzeug>=0.11.15 in /usr/local/lib/python3.6/dist-packages (from tensorboard~=2.4->tensorflow<3,>=2.1.0->tensorflowjs) (1.0.1)\n",
            "Requirement already satisfied: google-auth-oauthlib<0.5,>=0.4.1 in /usr/local/lib/python3.6/dist-packages (from tensorboard~=2.4->tensorflow<3,>=2.1.0->tensorflowjs) (0.4.2)\n",
            "Requirement already satisfied: cachetools<5.0,>=2.0.0 in /usr/local/lib/python3.6/dist-packages (from google-auth<2,>=1.6.3->tensorboard~=2.4->tensorflow<3,>=2.1.0->tensorflowjs) (4.2.0)\n",
            "Requirement already satisfied: pyasn1-modules>=0.2.1 in /usr/local/lib/python3.6/dist-packages (from google-auth<2,>=1.6.3->tensorboard~=2.4->tensorflow<3,>=2.1.0->tensorflowjs) (0.2.8)\n",
            "Requirement already satisfied: rsa<5,>=3.1.4; python_version >= \"3\" in /usr/local/lib/python3.6/dist-packages (from google-auth<2,>=1.6.3->tensorboard~=2.4->tensorflow<3,>=2.1.0->tensorflowjs) (4.6)\n",
            "Requirement already satisfied: importlib-metadata; python_version < \"3.8\" in /usr/local/lib/python3.6/dist-packages (from markdown>=2.6.8->tensorboard~=2.4->tensorflow<3,>=2.1.0->tensorflowjs) (3.3.0)\n",
            "Requirement already satisfied: certifi>=2017.4.17 in /usr/local/lib/python3.6/dist-packages (from requests<3,>=2.21.0->tensorboard~=2.4->tensorflow<3,>=2.1.0->tensorflowjs) (2020.12.5)\n",
            "Requirement already satisfied: idna<3,>=2.5 in /usr/local/lib/python3.6/dist-packages (from requests<3,>=2.21.0->tensorboard~=2.4->tensorflow<3,>=2.1.0->tensorflowjs) (2.10)\n",
            "Requirement already satisfied: urllib3!=1.25.0,!=1.25.1,<1.26,>=1.21.1 in /usr/local/lib/python3.6/dist-packages (from requests<3,>=2.21.0->tensorboard~=2.4->tensorflow<3,>=2.1.0->tensorflowjs) (1.24.3)\n",
            "Requirement already satisfied: chardet<4,>=3.0.2 in /usr/local/lib/python3.6/dist-packages (from requests<3,>=2.21.0->tensorboard~=2.4->tensorflow<3,>=2.1.0->tensorflowjs) (3.0.4)\n",
            "Requirement already satisfied: requests-oauthlib>=0.7.0 in /usr/local/lib/python3.6/dist-packages (from google-auth-oauthlib<0.5,>=0.4.1->tensorboard~=2.4->tensorflow<3,>=2.1.0->tensorflowjs) (1.3.0)\n",
            "Requirement already satisfied: pyasn1<0.5.0,>=0.4.6 in /usr/local/lib/python3.6/dist-packages (from pyasn1-modules>=0.2.1->google-auth<2,>=1.6.3->tensorboard~=2.4->tensorflow<3,>=2.1.0->tensorflowjs) (0.4.8)\n",
            "Requirement already satisfied: zipp>=0.5 in /usr/local/lib/python3.6/dist-packages (from importlib-metadata; python_version < \"3.8\"->markdown>=2.6.8->tensorboard~=2.4->tensorflow<3,>=2.1.0->tensorflowjs) (3.4.0)\n",
            "Requirement already satisfied: oauthlib>=3.0.0 in /usr/local/lib/python3.6/dist-packages (from requests-oauthlib>=0.7.0->google-auth-oauthlib<0.5,>=0.4.1->tensorboard~=2.4->tensorflow<3,>=2.1.0->tensorflowjs) (3.1.0)\n",
            "Requirement already satisfied: numpy in /usr/local/lib/python3.6/dist-packages (1.19.5)\n",
            "Requirement already satisfied: matplotlib in /usr/local/lib/python3.6/dist-packages (3.2.2)\n",
            "Requirement already satisfied: cycler>=0.10 in /usr/local/lib/python3.6/dist-packages (from matplotlib) (0.10.0)\n",
            "Requirement already satisfied: python-dateutil>=2.1 in /usr/local/lib/python3.6/dist-packages (from matplotlib) (2.8.1)\n",
            "Requirement already satisfied: kiwisolver>=1.0.1 in /usr/local/lib/python3.6/dist-packages (from matplotlib) (1.3.1)\n",
            "Requirement already satisfied: pyparsing!=2.0.4,!=2.1.2,!=2.1.6,>=2.0.1 in /usr/local/lib/python3.6/dist-packages (from matplotlib) (2.4.7)\n",
            "Requirement already satisfied: numpy>=1.11 in /usr/local/lib/python3.6/dist-packages (from matplotlib) (1.19.5)\n",
            "Requirement already satisfied: six in /usr/local/lib/python3.6/dist-packages (from cycler>=0.10->matplotlib) (1.15.0)\n",
            "Requirement already satisfied: rarfile in /usr/local/lib/python3.6/dist-packages (4.0)\n",
            "Requirement already satisfied: sklearn in /usr/local/lib/python3.6/dist-packages (0.0)\n",
            "Requirement already satisfied: scikit-learn in /usr/local/lib/python3.6/dist-packages (from sklearn) (0.22.2.post1)\n",
            "Requirement already satisfied: joblib>=0.11 in /usr/local/lib/python3.6/dist-packages (from scikit-learn->sklearn) (1.0.0)\n",
            "Requirement already satisfied: scipy>=0.17.0 in /usr/local/lib/python3.6/dist-packages (from scikit-learn->sklearn) (1.4.1)\n",
            "Requirement already satisfied: numpy>=1.11.0 in /usr/local/lib/python3.6/dist-packages (from scikit-learn->sklearn) (1.19.5)\n"
          ],
          "name": "stdout"
        }
      ]
    },
    {
      "cell_type": "markdown",
      "metadata": {
        "id": "bv5rcQliT7W2"
      },
      "source": [
        ""
      ]
    },
    {
      "cell_type": "code",
      "metadata": {
        "id": "2W9hd9ybU605"
      },
      "source": [
        "from sklearn.model_selection import train_test_split\n",
        "import numpy as np\n",
        "import matplotlib.pyplot as plt\n",
        "import random\n",
        "import json\n",
        "import os"
      ],
      "execution_count": null,
      "outputs": []
    },
    {
      "cell_type": "code",
      "metadata": {
        "id": "_ZX1mLgtRVbi"
      },
      "source": [
        "import tensorflow as tf\n",
        "\n",
        "tf.compat.v1.enable_eager_execution()"
      ],
      "execution_count": null,
      "outputs": []
    },
    {
      "cell_type": "markdown",
      "metadata": {
        "id": "vuTsDtTJT99v"
      },
      "source": [
        "> Checking if GPU device is linked."
      ]
    },
    {
      "cell_type": "code",
      "metadata": {
        "colab": {
          "base_uri": "https://localhost:8080/"
        },
        "id": "GvdanZN8RqUN",
        "outputId": "54365a99-b2e0-492b-81e4-50d9046c5af5"
      },
      "source": [
        "device_name = tf.test.gpu_device_name()\n",
        "if device_name != \"/device:GPU:0\":\n",
        "    raise SystemError(\"GPU device not found\")\n",
        "    \n",
        "print(\"Found GPU at: {}\".format(device_name))"
      ],
      "execution_count": null,
      "outputs": [
        {
          "output_type": "stream",
          "text": [
            "Found GPU at: /device:GPU:0\n"
          ],
          "name": "stdout"
        }
      ]
    },
    {
      "cell_type": "markdown",
      "metadata": {
        "id": "QKCbJf-TUCpH"
      },
      "source": [
        "> Connecting with google drive to import training Data"
      ]
    },
    {
      "cell_type": "code",
      "metadata": {
        "colab": {
          "base_uri": "https://localhost:8080/"
        },
        "id": "MruXhmMIRuTb",
        "outputId": "0b7d1059-6c08-4929-d9ac-4ed4002277cd"
      },
      "source": [
        "from google.colab import drive\n",
        "drive.mount('/content/drive')"
      ],
      "execution_count": null,
      "outputs": [
        {
          "output_type": "stream",
          "text": [
            "Drive already mounted at /content/drive; to attempt to forcibly remount, call drive.mount(\"/content/drive\", force_remount=True).\n"
          ],
          "name": "stdout"
        }
      ]
    },
    {
      "cell_type": "code",
      "metadata": {
        "id": "yalfIb59RwaH"
      },
      "source": [
        "import rarfile\n",
        "\n",
        "with rarfile.RarFile(\"/content/drive/MyDrive/Datasets/gol_data.rar\", \"r\") as zip_ref:\n",
        "  zip_ref.extractall(\"gol_data\")"
      ],
      "execution_count": null,
      "outputs": []
    },
    {
      "cell_type": "code",
      "metadata": {
        "id": "2-N6PmMOR8hO"
      },
      "source": [
        "data = []\n",
        "\n",
        "with open(\"gol_data/gol_data_1.json\", \"r\") as f:\n",
        "    data.extend(json.load(f))"
      ],
      "execution_count": null,
      "outputs": []
    },
    {
      "cell_type": "code",
      "metadata": {
        "id": "ShnEPDYTkq61"
      },
      "source": [
        "start_all, stop_all = [], []\n",
        "\n",
        "for item in data:\n",
        "  start_all.append(item[\"start_gen\"])\n",
        "  stop_all.append(item[\"stop_gen\"])"
      ],
      "execution_count": null,
      "outputs": []
    },
    {
      "cell_type": "code",
      "metadata": {
        "colab": {
          "base_uri": "https://localhost:8080/"
        },
        "id": "-ZSYoFRCR8hR",
        "outputId": "25b8e361-013f-4864-8f12-3c2ca47bbda9"
      },
      "source": [
        "print(len(start_all), len(stop_all))\n",
        "print(len(start_all[1]), len(stop_all[0]))"
      ],
      "execution_count": null,
      "outputs": [
        {
          "output_type": "stream",
          "text": [
            "100000 100000\n",
            "625 625\n"
          ],
          "name": "stdout"
        }
      ]
    },
    {
      "cell_type": "markdown",
      "metadata": {
        "id": "tmrDXmR2UKyh"
      },
      "source": [
        "> Splitting data to 66% training data and 33% testing data"
      ]
    },
    {
      "cell_type": "code",
      "metadata": {
        "id": "HV2YAphHlqKc"
      },
      "source": [
        "X_train, X_test, Y_train, Y_test = train_test_split(\n",
        "    np.array(start_all, dtype=\"float32\").reshape((-1, 25, 25, 1)), \n",
        "    np.array(stop_all, dtype=\"float32\").reshape((-1, 25, 25, 1)), \n",
        "    test_size=0.33,\n",
        "    random_state=42,\n",
        "    shuffle=True)"
      ],
      "execution_count": null,
      "outputs": []
    },
    {
      "cell_type": "markdown",
      "metadata": {
        "id": "9W5N1eXHUZ9e"
      },
      "source": [
        "> Creating the model with one hidden layer which is a convolutional layer of 4 filters."
      ]
    },
    {
      "cell_type": "code",
      "metadata": {
        "id": "QtiuvS1Xl802"
      },
      "source": [
        "def CreateModel():\n",
        "    model = tf.keras.Sequential()\n",
        "    model.add(tf.keras.layers.Conv2D(filters=4, kernel_size=3, activation=\"relu\", padding=\"same\", input_shape=(25, 25, 1)))\n",
        "    model.add(tf.keras.layers.Conv2D(filters=1, kernel_size=3, activation=\"relu\", padding=\"same\"))\n",
        "    return model"
      ],
      "execution_count": null,
      "outputs": []
    },
    {
      "cell_type": "markdown",
      "metadata": {
        "id": "Jrhp0oYtUulK"
      },
      "source": [
        "> Compiling the model and starting the training"
      ]
    },
    {
      "cell_type": "code",
      "metadata": {
        "colab": {
          "base_uri": "https://localhost:8080/"
        },
        "id": "kbj7Z8wQKFTo",
        "outputId": "3b40ed87-c959-4891-b2a2-aecc6a349445"
      },
      "source": [
        "model_checkpoint = tf.keras.callbacks.ModelCheckpoint(\n",
        "    filepath=\"/content/drive/My Drive/model_checkpoint_gol\",\n",
        "    save_weights_only=False,\n",
        "    monitor='val_accuracy',\n",
        "    mode='max',\n",
        "    save_best_only=True)\n",
        "\n",
        "\n",
        "with tf.device(\"/gpu:0\"):\n",
        "  Model = CreateModel()\n",
        "\n",
        "  Model.compile(\n",
        "      loss=\"bce\",\n",
        "      optimizer=tf.keras.optimizers.Adam(),\n",
        "      metrics=[\"accuracy\"])\n",
        "  \n",
        "  Model.summary()\n",
        "  \n",
        "  history = Model.fit(x=X_train,\n",
        "                      y=Y_train,\n",
        "                      epochs=200,\n",
        "                      batch_size=512,\n",
        "                      validation_data=(X_test, Y_test),\n",
        "                      shuffle=True,\n",
        "                      callbacks=[model_checkpoint])"
      ],
      "execution_count": null,
      "outputs": [
        {
          "output_type": "stream",
          "text": [
            "Model: \"sequential\"\n",
            "_________________________________________________________________\n",
            "Layer (type)                 Output Shape              Param #   \n",
            "=================================================================\n",
            "conv2d (Conv2D)              (None, 25, 25, 4)         40        \n",
            "_________________________________________________________________\n",
            "conv2d_1 (Conv2D)            (None, 25, 25, 1)         37        \n",
            "=================================================================\n",
            "Total params: 77\n",
            "Trainable params: 77\n",
            "Non-trainable params: 0\n",
            "_________________________________________________________________\n",
            "Epoch 1/200\n",
            "131/131 [==============================] - 3s 8ms/step - loss: 0.4872 - accuracy: 0.8501 - val_loss: 0.2652 - val_accuracy: 0.8449\n",
            "INFO:tensorflow:Assets written to: /content/drive/My Drive/model_checkpoint_gol/assets\n",
            "Epoch 2/200\n",
            "131/131 [==============================] - 1s 6ms/step - loss: 0.2577 - accuracy: 0.8452 - val_loss: 0.2466 - val_accuracy: 0.8461\n",
            "INFO:tensorflow:Assets written to: /content/drive/My Drive/model_checkpoint_gol/assets\n",
            "Epoch 3/200\n",
            "131/131 [==============================] - 1s 5ms/step - loss: 0.2443 - accuracy: 0.8466 - val_loss: 0.2405 - val_accuracy: 0.8482\n",
            "INFO:tensorflow:Assets written to: /content/drive/My Drive/model_checkpoint_gol/assets\n",
            "Epoch 4/200\n",
            "131/131 [==============================] - 1s 6ms/step - loss: 0.2384 - accuracy: 0.8496 - val_loss: 0.2365 - val_accuracy: 0.8505\n",
            "INFO:tensorflow:Assets written to: /content/drive/My Drive/model_checkpoint_gol/assets\n",
            "Epoch 5/200\n",
            "131/131 [==============================] - 2s 12ms/step - loss: 0.2332 - accuracy: 0.8528 - val_loss: 0.2319 - val_accuracy: 0.8547\n",
            "INFO:tensorflow:Assets written to: /content/drive/My Drive/model_checkpoint_gol/assets\n",
            "Epoch 6/200\n",
            "131/131 [==============================] - 1s 6ms/step - loss: 0.2299 - accuracy: 0.8566 - val_loss: 0.2274 - val_accuracy: 0.8605\n",
            "INFO:tensorflow:Assets written to: /content/drive/My Drive/model_checkpoint_gol/assets\n",
            "Epoch 7/200\n",
            "131/131 [==============================] - 1s 6ms/step - loss: 0.2266 - accuracy: 0.8621 - val_loss: 0.2226 - val_accuracy: 0.8680\n",
            "INFO:tensorflow:Assets written to: /content/drive/My Drive/model_checkpoint_gol/assets\n",
            "Epoch 8/200\n",
            "131/131 [==============================] - 1s 6ms/step - loss: 0.2193 - accuracy: 0.8700 - val_loss: 0.2152 - val_accuracy: 0.8709\n",
            "INFO:tensorflow:Assets written to: /content/drive/My Drive/model_checkpoint_gol/assets\n",
            "Epoch 9/200\n",
            "131/131 [==============================] - 1s 6ms/step - loss: 0.2117 - accuracy: 0.8726 - val_loss: 0.2056 - val_accuracy: 0.8767\n",
            "INFO:tensorflow:Assets written to: /content/drive/My Drive/model_checkpoint_gol/assets\n",
            "Epoch 10/200\n",
            "131/131 [==============================] - 1s 6ms/step - loss: 0.1985 - accuracy: 0.8824 - val_loss: 0.1789 - val_accuracy: 0.8927\n",
            "INFO:tensorflow:Assets written to: /content/drive/My Drive/model_checkpoint_gol/assets\n",
            "Epoch 11/200\n",
            "131/131 [==============================] - 1s 6ms/step - loss: 0.1739 - accuracy: 0.8959 - val_loss: 0.1616 - val_accuracy: 0.9045\n",
            "INFO:tensorflow:Assets written to: /content/drive/My Drive/model_checkpoint_gol/assets\n",
            "Epoch 12/200\n",
            "131/131 [==============================] - 1s 6ms/step - loss: 0.1583 - accuracy: 0.9074 - val_loss: 0.1479 - val_accuracy: 0.9173\n",
            "INFO:tensorflow:Assets written to: /content/drive/My Drive/model_checkpoint_gol/assets\n",
            "Epoch 13/200\n",
            "131/131 [==============================] - 1s 5ms/step - loss: 0.1438 - accuracy: 0.9211 - val_loss: 0.1366 - val_accuracy: 0.9309\n",
            "INFO:tensorflow:Assets written to: /content/drive/My Drive/model_checkpoint_gol/assets\n",
            "Epoch 14/200\n",
            "131/131 [==============================] - 1s 6ms/step - loss: 0.1339 - accuracy: 0.9339 - val_loss: 0.1272 - val_accuracy: 0.9414\n",
            "INFO:tensorflow:Assets written to: /content/drive/My Drive/model_checkpoint_gol/assets\n",
            "Epoch 15/200\n",
            "131/131 [==============================] - 1s 6ms/step - loss: 0.1242 - accuracy: 0.9436 - val_loss: 0.1189 - val_accuracy: 0.9483\n",
            "INFO:tensorflow:Assets written to: /content/drive/My Drive/model_checkpoint_gol/assets\n",
            "Epoch 16/200\n",
            "131/131 [==============================] - 1s 6ms/step - loss: 0.1167 - accuracy: 0.9497 - val_loss: 0.1114 - val_accuracy: 0.9528\n",
            "INFO:tensorflow:Assets written to: /content/drive/My Drive/model_checkpoint_gol/assets\n",
            "Epoch 17/200\n",
            "131/131 [==============================] - 1s 6ms/step - loss: 0.1096 - accuracy: 0.9536 - val_loss: 0.1041 - val_accuracy: 0.9562\n",
            "INFO:tensorflow:Assets written to: /content/drive/My Drive/model_checkpoint_gol/assets\n",
            "Epoch 18/200\n",
            "131/131 [==============================] - 1s 6ms/step - loss: 0.1020 - accuracy: 0.9572 - val_loss: 0.0973 - val_accuracy: 0.9591\n",
            "INFO:tensorflow:Assets written to: /content/drive/My Drive/model_checkpoint_gol/assets\n",
            "Epoch 19/200\n",
            "131/131 [==============================] - 1s 6ms/step - loss: 0.0954 - accuracy: 0.9600 - val_loss: 0.0902 - val_accuracy: 0.9628\n",
            "INFO:tensorflow:Assets written to: /content/drive/My Drive/model_checkpoint_gol/assets\n",
            "Epoch 20/200\n",
            "131/131 [==============================] - 1s 5ms/step - loss: 0.0873 - accuracy: 0.9647 - val_loss: 0.0798 - val_accuracy: 0.9695\n",
            "INFO:tensorflow:Assets written to: /content/drive/My Drive/model_checkpoint_gol/assets\n",
            "Epoch 21/200\n",
            "131/131 [==============================] - 1s 5ms/step - loss: 0.0766 - accuracy: 0.9712 - val_loss: 0.0680 - val_accuracy: 0.9758\n",
            "INFO:tensorflow:Assets written to: /content/drive/My Drive/model_checkpoint_gol/assets\n",
            "Epoch 22/200\n",
            "131/131 [==============================] - 1s 6ms/step - loss: 0.0646 - accuracy: 0.9778 - val_loss: 0.0554 - val_accuracy: 0.9844\n",
            "INFO:tensorflow:Assets written to: /content/drive/My Drive/model_checkpoint_gol/assets\n",
            "Epoch 23/200\n",
            "131/131 [==============================] - 1s 6ms/step - loss: 0.0519 - accuracy: 0.9869 - val_loss: 0.0426 - val_accuracy: 0.9937\n",
            "INFO:tensorflow:Assets written to: /content/drive/My Drive/model_checkpoint_gol/assets\n",
            "Epoch 24/200\n",
            "131/131 [==============================] - 1s 6ms/step - loss: 0.0396 - accuracy: 0.9954 - val_loss: 0.0321 - val_accuracy: 0.9988\n",
            "INFO:tensorflow:Assets written to: /content/drive/My Drive/model_checkpoint_gol/assets\n",
            "Epoch 25/200\n",
            "131/131 [==============================] - 1s 5ms/step - loss: 0.0297 - accuracy: 0.9991 - val_loss: 0.0232 - val_accuracy: 0.9995\n",
            "INFO:tensorflow:Assets written to: /content/drive/My Drive/model_checkpoint_gol/assets\n",
            "Epoch 26/200\n",
            "131/131 [==============================] - 1s 5ms/step - loss: 0.0213 - accuracy: 0.9996 - val_loss: 0.0162 - val_accuracy: 0.9997\n",
            "INFO:tensorflow:Assets written to: /content/drive/My Drive/model_checkpoint_gol/assets\n",
            "Epoch 27/200\n",
            "131/131 [==============================] - 1s 6ms/step - loss: 0.0146 - accuracy: 0.9997 - val_loss: 0.0109 - val_accuracy: 0.9998\n",
            "INFO:tensorflow:Assets written to: /content/drive/My Drive/model_checkpoint_gol/assets\n",
            "Epoch 28/200\n",
            "131/131 [==============================] - 1s 5ms/step - loss: 0.0095 - accuracy: 0.9999 - val_loss: 0.0060 - val_accuracy: 1.0000\n",
            "INFO:tensorflow:Assets written to: /content/drive/My Drive/model_checkpoint_gol/assets\n",
            "Epoch 29/200\n",
            "131/131 [==============================] - 1s 5ms/step - loss: 0.0048 - accuracy: 1.0000 - val_loss: 0.0021 - val_accuracy: 1.0000\n",
            "INFO:tensorflow:Assets written to: /content/drive/My Drive/model_checkpoint_gol/assets\n",
            "Epoch 30/200\n",
            "131/131 [==============================] - 1s 6ms/step - loss: 0.0017 - accuracy: 1.0000 - val_loss: 9.6121e-04 - val_accuracy: 1.0000\n",
            "INFO:tensorflow:Assets written to: /content/drive/My Drive/model_checkpoint_gol/assets\n",
            "Epoch 31/200\n",
            "131/131 [==============================] - 1s 6ms/step - loss: 8.1360e-04 - accuracy: 1.0000 - val_loss: 5.1651e-04 - val_accuracy: 1.0000\n",
            "INFO:tensorflow:Assets written to: /content/drive/My Drive/model_checkpoint_gol/assets\n",
            "Epoch 32/200\n",
            "131/131 [==============================] - 1s 6ms/step - loss: 4.4533e-04 - accuracy: 1.0000 - val_loss: 2.9788e-04 - val_accuracy: 1.0000\n",
            "Epoch 33/200\n",
            "131/131 [==============================] - 1s 6ms/step - loss: 2.6230e-04 - accuracy: 1.0000 - val_loss: 1.8827e-04 - val_accuracy: 1.0000\n",
            "Epoch 34/200\n",
            "131/131 [==============================] - 1s 5ms/step - loss: 1.6942e-04 - accuracy: 1.0000 - val_loss: 1.2730e-04 - val_accuracy: 1.0000\n",
            "Epoch 35/200\n",
            "131/131 [==============================] - 1s 6ms/step - loss: 1.1494e-04 - accuracy: 1.0000 - val_loss: 9.1100e-05 - val_accuracy: 1.0000\n",
            "Epoch 36/200\n",
            "131/131 [==============================] - 1s 6ms/step - loss: 8.4282e-05 - accuracy: 1.0000 - val_loss: 6.8124e-05 - val_accuracy: 1.0000\n",
            "Epoch 37/200\n",
            "131/131 [==============================] - 1s 6ms/step - loss: 6.2984e-05 - accuracy: 1.0000 - val_loss: 5.2719e-05 - val_accuracy: 1.0000\n",
            "Epoch 38/200\n",
            "131/131 [==============================] - 1s 6ms/step - loss: 4.9322e-05 - accuracy: 1.0000 - val_loss: 4.2038e-05 - val_accuracy: 1.0000\n",
            "Epoch 39/200\n",
            "131/131 [==============================] - 1s 6ms/step - loss: 3.9498e-05 - accuracy: 1.0000 - val_loss: 3.4418e-05 - val_accuracy: 1.0000\n",
            "Epoch 40/200\n",
            "131/131 [==============================] - 1s 6ms/step - loss: 3.2334e-05 - accuracy: 1.0000 - val_loss: 2.8781e-05 - val_accuracy: 1.0000\n",
            "Epoch 41/200\n",
            "131/131 [==============================] - 1s 6ms/step - loss: 2.6899e-05 - accuracy: 1.0000 - val_loss: 2.4398e-05 - val_accuracy: 1.0000\n",
            "Epoch 42/200\n",
            "131/131 [==============================] - 1s 6ms/step - loss: 2.3114e-05 - accuracy: 1.0000 - val_loss: 2.0893e-05 - val_accuracy: 1.0000\n",
            "Epoch 43/200\n",
            "131/131 [==============================] - 1s 6ms/step - loss: 1.9708e-05 - accuracy: 1.0000 - val_loss: 1.8071e-05 - val_accuracy: 1.0000\n",
            "Epoch 44/200\n",
            "131/131 [==============================] - 1s 5ms/step - loss: 1.7166e-05 - accuracy: 1.0000 - val_loss: 1.5778e-05 - val_accuracy: 1.0000\n",
            "Epoch 45/200\n",
            "131/131 [==============================] - 1s 5ms/step - loss: 1.5032e-05 - accuracy: 1.0000 - val_loss: 1.3899e-05 - val_accuracy: 1.0000\n",
            "Epoch 46/200\n",
            "131/131 [==============================] - 1s 6ms/step - loss: 1.3421e-05 - accuracy: 1.0000 - val_loss: 1.2345e-05 - val_accuracy: 1.0000\n",
            "Epoch 47/200\n",
            "131/131 [==============================] - 1s 6ms/step - loss: 1.1809e-05 - accuracy: 1.0000 - val_loss: 1.1007e-05 - val_accuracy: 1.0000\n",
            "Epoch 48/200\n",
            "131/131 [==============================] - 1s 6ms/step - loss: 1.0331e-05 - accuracy: 1.0000 - val_loss: 9.8515e-06 - val_accuracy: 1.0000\n",
            "Epoch 49/200\n",
            "131/131 [==============================] - 1s 6ms/step - loss: 9.4269e-06 - accuracy: 1.0000 - val_loss: 8.8431e-06 - val_accuracy: 1.0000\n",
            "Epoch 50/200\n",
            "131/131 [==============================] - 1s 5ms/step - loss: 8.5901e-06 - accuracy: 1.0000 - val_loss: 7.9317e-06 - val_accuracy: 1.0000\n",
            "Epoch 51/200\n",
            "131/131 [==============================] - 1s 6ms/step - loss: 7.7125e-06 - accuracy: 1.0000 - val_loss: 7.1320e-06 - val_accuracy: 1.0000\n",
            "Epoch 52/200\n",
            "131/131 [==============================] - 1s 6ms/step - loss: 6.7207e-06 - accuracy: 1.0000 - val_loss: 6.4092e-06 - val_accuracy: 1.0000\n",
            "Epoch 53/200\n",
            "131/131 [==============================] - 1s 5ms/step - loss: 6.3216e-06 - accuracy: 1.0000 - val_loss: 5.7447e-06 - val_accuracy: 1.0000\n",
            "Epoch 54/200\n",
            "131/131 [==============================] - 1s 5ms/step - loss: 5.6658e-06 - accuracy: 1.0000 - val_loss: 5.1113e-06 - val_accuracy: 1.0000\n",
            "Epoch 55/200\n",
            "131/131 [==============================] - 1s 6ms/step - loss: 4.7486e-06 - accuracy: 1.0000 - val_loss: 4.5279e-06 - val_accuracy: 1.0000\n",
            "Epoch 56/200\n",
            "131/131 [==============================] - 1s 6ms/step - loss: 4.3790e-06 - accuracy: 1.0000 - val_loss: 3.9799e-06 - val_accuracy: 1.0000\n",
            "Epoch 57/200\n",
            "131/131 [==============================] - 1s 6ms/step - loss: 3.9419e-06 - accuracy: 1.0000 - val_loss: 3.4315e-06 - val_accuracy: 1.0000\n",
            "Epoch 58/200\n",
            "131/131 [==============================] - 1s 6ms/step - loss: 3.2656e-06 - accuracy: 1.0000 - val_loss: 2.9715e-06 - val_accuracy: 1.0000\n",
            "Epoch 59/200\n",
            "131/131 [==============================] - 1s 5ms/step - loss: 2.8929e-06 - accuracy: 1.0000 - val_loss: 2.6094e-06 - val_accuracy: 1.0000\n",
            "Epoch 60/200\n",
            "131/131 [==============================] - 1s 6ms/step - loss: 2.5700e-06 - accuracy: 1.0000 - val_loss: 2.3176e-06 - val_accuracy: 1.0000\n",
            "Epoch 61/200\n",
            "131/131 [==============================] - 1s 6ms/step - loss: 2.2981e-06 - accuracy: 1.0000 - val_loss: 2.0942e-06 - val_accuracy: 1.0000\n",
            "Epoch 62/200\n",
            "131/131 [==============================] - 1s 6ms/step - loss: 2.0131e-06 - accuracy: 1.0000 - val_loss: 1.9214e-06 - val_accuracy: 1.0000\n",
            "Epoch 63/200\n",
            "131/131 [==============================] - 1s 6ms/step - loss: 1.9138e-06 - accuracy: 1.0000 - val_loss: 1.7742e-06 - val_accuracy: 1.0000\n",
            "Epoch 64/200\n",
            "131/131 [==============================] - 1s 6ms/step - loss: 1.8025e-06 - accuracy: 1.0000 - val_loss: 1.6350e-06 - val_accuracy: 1.0000\n",
            "Epoch 65/200\n",
            "131/131 [==============================] - 1s 6ms/step - loss: 1.6260e-06 - accuracy: 1.0000 - val_loss: 1.5182e-06 - val_accuracy: 1.0000\n",
            "Epoch 66/200\n",
            "131/131 [==============================] - 1s 6ms/step - loss: 1.4766e-06 - accuracy: 1.0000 - val_loss: 1.4101e-06 - val_accuracy: 1.0000\n",
            "Epoch 67/200\n",
            "131/131 [==============================] - 1s 6ms/step - loss: 1.4417e-06 - accuracy: 1.0000 - val_loss: 1.3096e-06 - val_accuracy: 1.0000\n",
            "Epoch 68/200\n",
            "131/131 [==============================] - 1s 5ms/step - loss: 1.3767e-06 - accuracy: 1.0000 - val_loss: 1.2162e-06 - val_accuracy: 1.0000\n",
            "Epoch 69/200\n",
            "131/131 [==============================] - 1s 6ms/step - loss: 1.2048e-06 - accuracy: 1.0000 - val_loss: 1.1204e-06 - val_accuracy: 1.0000\n",
            "Epoch 70/200\n",
            "131/131 [==============================] - 1s 6ms/step - loss: 1.1304e-06 - accuracy: 1.0000 - val_loss: 1.0402e-06 - val_accuracy: 1.0000\n",
            "Epoch 71/200\n",
            "131/131 [==============================] - 1s 6ms/step - loss: 1.0958e-06 - accuracy: 1.0000 - val_loss: 9.6593e-07 - val_accuracy: 1.0000\n",
            "Epoch 72/200\n",
            "131/131 [==============================] - 1s 6ms/step - loss: 9.5246e-07 - accuracy: 1.0000 - val_loss: 8.8390e-07 - val_accuracy: 1.0000\n",
            "Epoch 73/200\n",
            "131/131 [==============================] - 1s 6ms/step - loss: 8.5297e-07 - accuracy: 1.0000 - val_loss: 7.9922e-07 - val_accuracy: 1.0000\n",
            "Epoch 74/200\n",
            "131/131 [==============================] - 1s 6ms/step - loss: 7.6445e-07 - accuracy: 1.0000 - val_loss: 7.1854e-07 - val_accuracy: 1.0000\n",
            "Epoch 75/200\n",
            "131/131 [==============================] - 1s 6ms/step - loss: 7.0329e-07 - accuracy: 1.0000 - val_loss: 6.4109e-07 - val_accuracy: 1.0000\n",
            "Epoch 76/200\n",
            "131/131 [==============================] - 1s 6ms/step - loss: 6.0673e-07 - accuracy: 1.0000 - val_loss: 5.6757e-07 - val_accuracy: 1.0000\n",
            "Epoch 77/200\n",
            "131/131 [==============================] - 1s 5ms/step - loss: 5.5229e-07 - accuracy: 1.0000 - val_loss: 5.0470e-07 - val_accuracy: 1.0000\n",
            "Epoch 78/200\n",
            "131/131 [==============================] - 1s 6ms/step - loss: 4.4958e-07 - accuracy: 1.0000 - val_loss: 4.4378e-07 - val_accuracy: 1.0000\n",
            "Epoch 79/200\n",
            "131/131 [==============================] - 1s 6ms/step - loss: 4.4315e-07 - accuracy: 1.0000 - val_loss: 3.8742e-07 - val_accuracy: 1.0000\n",
            "Epoch 80/200\n",
            "131/131 [==============================] - 1s 6ms/step - loss: 3.5443e-07 - accuracy: 1.0000 - val_loss: 3.4137e-07 - val_accuracy: 1.0000\n",
            "Epoch 81/200\n",
            "131/131 [==============================] - 1s 6ms/step - loss: 3.1586e-07 - accuracy: 1.0000 - val_loss: 3.0205e-07 - val_accuracy: 1.0000\n",
            "Epoch 82/200\n",
            "131/131 [==============================] - 1s 5ms/step - loss: 3.0779e-07 - accuracy: 1.0000 - val_loss: 2.6335e-07 - val_accuracy: 1.0000\n",
            "Epoch 83/200\n",
            "131/131 [==============================] - 1s 6ms/step - loss: 2.3923e-07 - accuracy: 1.0000 - val_loss: 2.2938e-07 - val_accuracy: 1.0000\n",
            "Epoch 84/200\n",
            "131/131 [==============================] - 1s 6ms/step - loss: 2.1742e-07 - accuracy: 1.0000 - val_loss: 2.0143e-07 - val_accuracy: 1.0000\n",
            "Epoch 85/200\n",
            "131/131 [==============================] - 1s 5ms/step - loss: 1.7360e-07 - accuracy: 1.0000 - val_loss: 1.7085e-07 - val_accuracy: 1.0000\n",
            "Epoch 86/200\n",
            "131/131 [==============================] - 1s 5ms/step - loss: 1.6404e-07 - accuracy: 1.0000 - val_loss: 1.4112e-07 - val_accuracy: 1.0000\n",
            "Epoch 87/200\n",
            "131/131 [==============================] - 1s 6ms/step - loss: 1.3451e-07 - accuracy: 1.0000 - val_loss: 1.2685e-07 - val_accuracy: 1.0000\n",
            "Epoch 88/200\n",
            "131/131 [==============================] - 1s 6ms/step - loss: 1.4214e-07 - accuracy: 1.0000 - val_loss: 1.0330e-07 - val_accuracy: 1.0000\n",
            "Epoch 89/200\n",
            "131/131 [==============================] - 1s 5ms/step - loss: 9.7490e-08 - accuracy: 1.0000 - val_loss: 9.2562e-08 - val_accuracy: 1.0000\n",
            "Epoch 90/200\n",
            "131/131 [==============================] - 1s 6ms/step - loss: 8.7240e-08 - accuracy: 1.0000 - val_loss: 7.7355e-08 - val_accuracy: 1.0000\n",
            "Epoch 91/200\n",
            "131/131 [==============================] - 1s 6ms/step - loss: 6.8552e-08 - accuracy: 1.0000 - val_loss: 6.7208e-08 - val_accuracy: 1.0000\n",
            "Epoch 92/200\n",
            "131/131 [==============================] - 1s 6ms/step - loss: 6.9345e-08 - accuracy: 1.0000 - val_loss: 5.6267e-08 - val_accuracy: 1.0000\n",
            "Epoch 93/200\n",
            "131/131 [==============================] - 1s 6ms/step - loss: 5.1713e-08 - accuracy: 1.0000 - val_loss: 5.0651e-08 - val_accuracy: 1.0000\n",
            "Epoch 94/200\n",
            "131/131 [==============================] - 1s 5ms/step - loss: 5.3366e-08 - accuracy: 1.0000 - val_loss: 4.7604e-08 - val_accuracy: 1.0000\n",
            "Epoch 95/200\n",
            "131/131 [==============================] - 1s 6ms/step - loss: 3.8819e-08 - accuracy: 1.0000 - val_loss: 3.4406e-08 - val_accuracy: 1.0000\n",
            "Epoch 96/200\n",
            "131/131 [==============================] - 1s 6ms/step - loss: 3.4768e-08 - accuracy: 1.0000 - val_loss: 3.0903e-08 - val_accuracy: 1.0000\n",
            "Epoch 97/200\n",
            "131/131 [==============================] - 1s 6ms/step - loss: 3.2459e-08 - accuracy: 1.0000 - val_loss: 2.5903e-08 - val_accuracy: 1.0000\n",
            "Epoch 98/200\n",
            "131/131 [==============================] - 1s 6ms/step - loss: 2.1316e-08 - accuracy: 1.0000 - val_loss: 2.0731e-08 - val_accuracy: 1.0000\n",
            "Epoch 99/200\n",
            "131/131 [==============================] - 1s 6ms/step - loss: 1.7992e-08 - accuracy: 1.0000 - val_loss: 1.6843e-08 - val_accuracy: 1.0000\n",
            "Epoch 100/200\n",
            "131/131 [==============================] - 1s 6ms/step - loss: 1.6569e-08 - accuracy: 1.0000 - val_loss: 1.5933e-08 - val_accuracy: 1.0000\n",
            "Epoch 101/200\n",
            "131/131 [==============================] - 1s 6ms/step - loss: 1.3165e-08 - accuracy: 1.0000 - val_loss: 1.1189e-08 - val_accuracy: 1.0000\n",
            "Epoch 102/200\n",
            "131/131 [==============================] - 2s 12ms/step - loss: 7.8042e-09 - accuracy: 1.0000 - val_loss: 9.6759e-09 - val_accuracy: 1.0000\n",
            "Epoch 103/200\n",
            "131/131 [==============================] - 1s 6ms/step - loss: 5.7081e-09 - accuracy: 1.0000 - val_loss: 9.9665e-09 - val_accuracy: 1.0000\n",
            "Epoch 104/200\n",
            "131/131 [==============================] - 1s 6ms/step - loss: 5.2700e-09 - accuracy: 1.0000 - val_loss: 6.8195e-09 - val_accuracy: 1.0000\n",
            "Epoch 105/200\n",
            "131/131 [==============================] - 1s 6ms/step - loss: 6.2500e-09 - accuracy: 1.0000 - val_loss: 6.1604e-09 - val_accuracy: 1.0000\n",
            "Epoch 106/200\n",
            "131/131 [==============================] - 1s 6ms/step - loss: 2.9050e-09 - accuracy: 1.0000 - val_loss: 4.7800e-09 - val_accuracy: 1.0000\n",
            "Epoch 107/200\n",
            "131/131 [==============================] - 1s 5ms/step - loss: 1.8969e-09 - accuracy: 1.0000 - val_loss: 4.4712e-09 - val_accuracy: 1.0000\n",
            "Epoch 108/200\n",
            "131/131 [==============================] - 1s 5ms/step - loss: 2.2723e-09 - accuracy: 1.0000 - val_loss: 2.9745e-09 - val_accuracy: 1.0000\n",
            "Epoch 109/200\n",
            "131/131 [==============================] - 1s 5ms/step - loss: 1.9875e-09 - accuracy: 1.0000 - val_loss: 2.9744e-09 - val_accuracy: 1.0000\n",
            "Epoch 110/200\n",
            "131/131 [==============================] - 1s 6ms/step - loss: 2.1920e-09 - accuracy: 1.0000 - val_loss: 3.0071e-09 - val_accuracy: 1.0000\n",
            "Epoch 111/200\n",
            "131/131 [==============================] - 1s 6ms/step - loss: 1.3035e-09 - accuracy: 1.0000 - val_loss: 2.2337e-09 - val_accuracy: 1.0000\n",
            "Epoch 112/200\n",
            "131/131 [==============================] - 1s 5ms/step - loss: 1.7610e-09 - accuracy: 1.0000 - val_loss: 1.9703e-09 - val_accuracy: 1.0000\n",
            "Epoch 113/200\n",
            "131/131 [==============================] - 1s 6ms/step - loss: 7.1742e-10 - accuracy: 1.0000 - val_loss: 3.0770e-09 - val_accuracy: 1.0000\n",
            "Epoch 114/200\n",
            "131/131 [==============================] - 1s 6ms/step - loss: 1.5593e-09 - accuracy: 1.0000 - val_loss: 1.7328e-09 - val_accuracy: 1.0000\n",
            "Epoch 115/200\n",
            "131/131 [==============================] - 1s 6ms/step - loss: 8.2159e-10 - accuracy: 1.0000 - val_loss: 1.6982e-09 - val_accuracy: 1.0000\n",
            "Epoch 116/200\n",
            "131/131 [==============================] - 1s 5ms/step - loss: 4.3708e-10 - accuracy: 1.0000 - val_loss: 2.2313e-09 - val_accuracy: 1.0000\n",
            "Epoch 117/200\n",
            "131/131 [==============================] - 1s 6ms/step - loss: 8.8687e-10 - accuracy: 1.0000 - val_loss: 1.2136e-09 - val_accuracy: 1.0000\n",
            "Epoch 118/200\n",
            "131/131 [==============================] - 1s 6ms/step - loss: 7.5124e-10 - accuracy: 1.0000 - val_loss: 1.2830e-09 - val_accuracy: 1.0000\n",
            "Epoch 119/200\n",
            "131/131 [==============================] - 1s 5ms/step - loss: 3.4606e-10 - accuracy: 1.0000 - val_loss: 7.4521e-10 - val_accuracy: 1.0000\n",
            "Epoch 120/200\n",
            "131/131 [==============================] - 1s 5ms/step - loss: 1.4572e-10 - accuracy: 1.0000 - val_loss: 1.0672e-09 - val_accuracy: 1.0000\n",
            "Epoch 121/200\n",
            "131/131 [==============================] - 1s 6ms/step - loss: 1.3324e-10 - accuracy: 1.0000 - val_loss: 5.6090e-10 - val_accuracy: 1.0000\n",
            "Epoch 122/200\n",
            "131/131 [==============================] - 1s 6ms/step - loss: 1.0557e-10 - accuracy: 1.0000 - val_loss: 9.5944e-10 - val_accuracy: 1.0000\n",
            "Epoch 123/200\n",
            "131/131 [==============================] - 1s 5ms/step - loss: 7.3452e-10 - accuracy: 1.0000 - val_loss: 4.0429e-10 - val_accuracy: 1.0000\n",
            "Epoch 124/200\n",
            "131/131 [==============================] - 1s 6ms/step - loss: 2.3078e-11 - accuracy: 1.0000 - val_loss: 8.9774e-10 - val_accuracy: 1.0000\n",
            "Epoch 125/200\n",
            "131/131 [==============================] - 1s 6ms/step - loss: 1.8775e-10 - accuracy: 1.0000 - val_loss: 7.0182e-10 - val_accuracy: 1.0000\n",
            "Epoch 126/200\n",
            "131/131 [==============================] - 1s 6ms/step - loss: 4.5701e-10 - accuracy: 1.0000 - val_loss: 3.9561e-09 - val_accuracy: 1.0000\n",
            "Epoch 127/200\n",
            "131/131 [==============================] - 1s 6ms/step - loss: 6.9795e-10 - accuracy: 1.0000 - val_loss: 2.4650e-10 - val_accuracy: 1.0000\n",
            "Epoch 128/200\n",
            "131/131 [==============================] - 1s 6ms/step - loss: 1.0458e-12 - accuracy: 1.0000 - val_loss: 1.4787e-09 - val_accuracy: 1.0000\n",
            "Epoch 129/200\n",
            "131/131 [==============================] - 1s 6ms/step - loss: 8.1257e-10 - accuracy: 1.0000 - val_loss: 1.6656e-10 - val_accuracy: 1.0000\n",
            "Epoch 130/200\n",
            "131/131 [==============================] - 1s 6ms/step - loss: 4.1557e-11 - accuracy: 1.0000 - val_loss: 2.8648e-10 - val_accuracy: 1.0000\n",
            "Epoch 131/200\n",
            "131/131 [==============================] - 1s 5ms/step - loss: 2.4533e-11 - accuracy: 1.0000 - val_loss: 1.5007e-10 - val_accuracy: 1.0000\n",
            "Epoch 132/200\n",
            "131/131 [==============================] - 1s 6ms/step - loss: 0.0000e+00 - accuracy: 1.0000 - val_loss: 1.4999e-10 - val_accuracy: 1.0000\n",
            "Epoch 133/200\n",
            "131/131 [==============================] - 1s 6ms/step - loss: 0.0000e+00 - accuracy: 1.0000 - val_loss: 1.4999e-10 - val_accuracy: 1.0000\n",
            "Epoch 134/200\n",
            "131/131 [==============================] - 1s 5ms/step - loss: 0.0000e+00 - accuracy: 1.0000 - val_loss: 1.4999e-10 - val_accuracy: 1.0000\n",
            "Epoch 135/200\n",
            "131/131 [==============================] - 1s 6ms/step - loss: 0.0000e+00 - accuracy: 1.0000 - val_loss: 1.4999e-10 - val_accuracy: 1.0000\n",
            "Epoch 136/200\n",
            "131/131 [==============================] - 1s 6ms/step - loss: 0.0000e+00 - accuracy: 1.0000 - val_loss: 1.4999e-10 - val_accuracy: 1.0000\n",
            "Epoch 137/200\n",
            "131/131 [==============================] - 1s 6ms/step - loss: 0.0000e+00 - accuracy: 1.0000 - val_loss: 1.4999e-10 - val_accuracy: 1.0000\n",
            "Epoch 138/200\n",
            "131/131 [==============================] - 1s 6ms/step - loss: 0.0000e+00 - accuracy: 1.0000 - val_loss: 1.4999e-10 - val_accuracy: 1.0000\n",
            "Epoch 139/200\n",
            "131/131 [==============================] - 1s 6ms/step - loss: 0.0000e+00 - accuracy: 1.0000 - val_loss: 1.4999e-10 - val_accuracy: 1.0000\n",
            "Epoch 140/200\n",
            "131/131 [==============================] - 1s 6ms/step - loss: 0.0000e+00 - accuracy: 1.0000 - val_loss: 1.4999e-10 - val_accuracy: 1.0000\n",
            "Epoch 141/200\n",
            "131/131 [==============================] - 1s 6ms/step - loss: 0.0000e+00 - accuracy: 1.0000 - val_loss: 1.4999e-10 - val_accuracy: 1.0000\n",
            "Epoch 142/200\n",
            "131/131 [==============================] - 1s 6ms/step - loss: 0.0000e+00 - accuracy: 1.0000 - val_loss: 1.4999e-10 - val_accuracy: 1.0000\n",
            "Epoch 143/200\n",
            "131/131 [==============================] - 1s 6ms/step - loss: 0.0000e+00 - accuracy: 1.0000 - val_loss: 1.4999e-10 - val_accuracy: 1.0000\n",
            "Epoch 144/200\n",
            "131/131 [==============================] - 1s 6ms/step - loss: 0.0000e+00 - accuracy: 1.0000 - val_loss: 1.4999e-10 - val_accuracy: 1.0000\n",
            "Epoch 145/200\n",
            "131/131 [==============================] - 1s 6ms/step - loss: 0.0000e+00 - accuracy: 1.0000 - val_loss: 1.4999e-10 - val_accuracy: 1.0000\n",
            "Epoch 146/200\n",
            "131/131 [==============================] - 1s 6ms/step - loss: 0.0000e+00 - accuracy: 1.0000 - val_loss: 1.4999e-10 - val_accuracy: 1.0000\n",
            "Epoch 147/200\n",
            "131/131 [==============================] - 1s 6ms/step - loss: 0.0000e+00 - accuracy: 1.0000 - val_loss: 1.4999e-10 - val_accuracy: 1.0000\n",
            "Epoch 148/200\n",
            "131/131 [==============================] - 1s 6ms/step - loss: 0.0000e+00 - accuracy: 1.0000 - val_loss: 1.4999e-10 - val_accuracy: 1.0000\n",
            "Epoch 149/200\n",
            "131/131 [==============================] - 1s 5ms/step - loss: 0.0000e+00 - accuracy: 1.0000 - val_loss: 1.4999e-10 - val_accuracy: 1.0000\n",
            "Epoch 150/200\n",
            "131/131 [==============================] - 1s 6ms/step - loss: 0.0000e+00 - accuracy: 1.0000 - val_loss: 1.4999e-10 - val_accuracy: 1.0000\n",
            "Epoch 151/200\n",
            "131/131 [==============================] - 1s 6ms/step - loss: 0.0000e+00 - accuracy: 1.0000 - val_loss: 1.4999e-10 - val_accuracy: 1.0000\n",
            "Epoch 152/200\n",
            "131/131 [==============================] - 1s 6ms/step - loss: 0.0000e+00 - accuracy: 1.0000 - val_loss: 1.4999e-10 - val_accuracy: 1.0000\n",
            "Epoch 153/200\n",
            "131/131 [==============================] - 1s 6ms/step - loss: 0.0000e+00 - accuracy: 1.0000 - val_loss: 1.4999e-10 - val_accuracy: 1.0000\n",
            "Epoch 154/200\n",
            "131/131 [==============================] - 1s 6ms/step - loss: 0.0000e+00 - accuracy: 1.0000 - val_loss: 1.4999e-10 - val_accuracy: 1.0000\n",
            "Epoch 155/200\n",
            "131/131 [==============================] - 1s 6ms/step - loss: 0.0000e+00 - accuracy: 1.0000 - val_loss: 1.4999e-10 - val_accuracy: 1.0000\n",
            "Epoch 156/200\n",
            "131/131 [==============================] - 1s 6ms/step - loss: 0.0000e+00 - accuracy: 1.0000 - val_loss: 1.4999e-10 - val_accuracy: 1.0000\n",
            "Epoch 157/200\n",
            "131/131 [==============================] - 1s 6ms/step - loss: 0.0000e+00 - accuracy: 1.0000 - val_loss: 1.4999e-10 - val_accuracy: 1.0000\n",
            "Epoch 158/200\n",
            "131/131 [==============================] - 1s 6ms/step - loss: 0.0000e+00 - accuracy: 1.0000 - val_loss: 1.4999e-10 - val_accuracy: 1.0000\n",
            "Epoch 159/200\n",
            "131/131 [==============================] - 1s 6ms/step - loss: 0.0000e+00 - accuracy: 1.0000 - val_loss: 1.4999e-10 - val_accuracy: 1.0000\n",
            "Epoch 160/200\n",
            "131/131 [==============================] - 1s 6ms/step - loss: 0.0000e+00 - accuracy: 1.0000 - val_loss: 1.4999e-10 - val_accuracy: 1.0000\n",
            "Epoch 161/200\n",
            "131/131 [==============================] - 1s 6ms/step - loss: 0.0000e+00 - accuracy: 1.0000 - val_loss: 1.4999e-10 - val_accuracy: 1.0000\n",
            "Epoch 162/200\n",
            "131/131 [==============================] - 1s 6ms/step - loss: 0.0000e+00 - accuracy: 1.0000 - val_loss: 1.4999e-10 - val_accuracy: 1.0000\n",
            "Epoch 163/200\n",
            "131/131 [==============================] - 1s 6ms/step - loss: 0.0000e+00 - accuracy: 1.0000 - val_loss: 1.4999e-10 - val_accuracy: 1.0000\n",
            "Epoch 164/200\n",
            "131/131 [==============================] - 1s 6ms/step - loss: 0.0000e+00 - accuracy: 1.0000 - val_loss: 1.4999e-10 - val_accuracy: 1.0000\n",
            "Epoch 165/200\n",
            "131/131 [==============================] - 1s 6ms/step - loss: 0.0000e+00 - accuracy: 1.0000 - val_loss: 1.4999e-10 - val_accuracy: 1.0000\n",
            "Epoch 166/200\n",
            "131/131 [==============================] - 1s 6ms/step - loss: 0.0000e+00 - accuracy: 1.0000 - val_loss: 1.4999e-10 - val_accuracy: 1.0000\n",
            "Epoch 167/200\n",
            "131/131 [==============================] - 1s 6ms/step - loss: 0.0000e+00 - accuracy: 1.0000 - val_loss: 1.4999e-10 - val_accuracy: 1.0000\n",
            "Epoch 168/200\n",
            "131/131 [==============================] - 1s 6ms/step - loss: 0.0000e+00 - accuracy: 1.0000 - val_loss: 1.4999e-10 - val_accuracy: 1.0000\n",
            "Epoch 169/200\n",
            "131/131 [==============================] - 1s 6ms/step - loss: 0.0000e+00 - accuracy: 1.0000 - val_loss: 1.4999e-10 - val_accuracy: 1.0000\n",
            "Epoch 170/200\n",
            "131/131 [==============================] - 1s 6ms/step - loss: 0.0000e+00 - accuracy: 1.0000 - val_loss: 1.4999e-10 - val_accuracy: 1.0000\n",
            "Epoch 171/200\n",
            "131/131 [==============================] - 1s 6ms/step - loss: 0.0000e+00 - accuracy: 1.0000 - val_loss: 1.4999e-10 - val_accuracy: 1.0000\n",
            "Epoch 172/200\n",
            "131/131 [==============================] - 1s 6ms/step - loss: 0.0000e+00 - accuracy: 1.0000 - val_loss: 1.4999e-10 - val_accuracy: 1.0000\n",
            "Epoch 173/200\n",
            "131/131 [==============================] - 1s 6ms/step - loss: 0.0000e+00 - accuracy: 1.0000 - val_loss: 1.4999e-10 - val_accuracy: 1.0000\n",
            "Epoch 174/200\n",
            "131/131 [==============================] - 1s 6ms/step - loss: 0.0000e+00 - accuracy: 1.0000 - val_loss: 1.4999e-10 - val_accuracy: 1.0000\n",
            "Epoch 175/200\n",
            "131/131 [==============================] - 1s 6ms/step - loss: 0.0000e+00 - accuracy: 1.0000 - val_loss: 1.4999e-10 - val_accuracy: 1.0000\n",
            "Epoch 176/200\n",
            "131/131 [==============================] - 1s 6ms/step - loss: 0.0000e+00 - accuracy: 1.0000 - val_loss: 1.4999e-10 - val_accuracy: 1.0000\n",
            "Epoch 177/200\n",
            "131/131 [==============================] - 1s 6ms/step - loss: 0.0000e+00 - accuracy: 1.0000 - val_loss: 1.4999e-10 - val_accuracy: 1.0000\n",
            "Epoch 178/200\n",
            "131/131 [==============================] - 1s 6ms/step - loss: 0.0000e+00 - accuracy: 1.0000 - val_loss: 1.4999e-10 - val_accuracy: 1.0000\n",
            "Epoch 179/200\n",
            "131/131 [==============================] - 1s 6ms/step - loss: 0.0000e+00 - accuracy: 1.0000 - val_loss: 1.4999e-10 - val_accuracy: 1.0000\n",
            "Epoch 180/200\n",
            "131/131 [==============================] - 1s 6ms/step - loss: 0.0000e+00 - accuracy: 1.0000 - val_loss: 1.4999e-10 - val_accuracy: 1.0000\n",
            "Epoch 181/200\n",
            "131/131 [==============================] - 1s 6ms/step - loss: 0.0000e+00 - accuracy: 1.0000 - val_loss: 1.4999e-10 - val_accuracy: 1.0000\n",
            "Epoch 182/200\n",
            "131/131 [==============================] - 1s 6ms/step - loss: 0.0000e+00 - accuracy: 1.0000 - val_loss: 1.4999e-10 - val_accuracy: 1.0000\n",
            "Epoch 183/200\n",
            "131/131 [==============================] - 1s 6ms/step - loss: 0.0000e+00 - accuracy: 1.0000 - val_loss: 1.4999e-10 - val_accuracy: 1.0000\n",
            "Epoch 184/200\n",
            "131/131 [==============================] - 1s 6ms/step - loss: 0.0000e+00 - accuracy: 1.0000 - val_loss: 1.4999e-10 - val_accuracy: 1.0000\n",
            "Epoch 185/200\n",
            "131/131 [==============================] - 1s 6ms/step - loss: 0.0000e+00 - accuracy: 1.0000 - val_loss: 1.4999e-10 - val_accuracy: 1.0000\n",
            "Epoch 186/200\n",
            "131/131 [==============================] - 1s 6ms/step - loss: 0.0000e+00 - accuracy: 1.0000 - val_loss: 1.4999e-10 - val_accuracy: 1.0000\n",
            "Epoch 187/200\n",
            "131/131 [==============================] - 1s 5ms/step - loss: 0.0000e+00 - accuracy: 1.0000 - val_loss: 1.4999e-10 - val_accuracy: 1.0000\n",
            "Epoch 188/200\n",
            "131/131 [==============================] - 1s 6ms/step - loss: 0.0000e+00 - accuracy: 1.0000 - val_loss: 1.4999e-10 - val_accuracy: 1.0000\n",
            "Epoch 189/200\n",
            "131/131 [==============================] - 1s 5ms/step - loss: 0.0000e+00 - accuracy: 1.0000 - val_loss: 1.4999e-10 - val_accuracy: 1.0000\n",
            "Epoch 190/200\n",
            "131/131 [==============================] - 1s 6ms/step - loss: 0.0000e+00 - accuracy: 1.0000 - val_loss: 1.4999e-10 - val_accuracy: 1.0000\n",
            "Epoch 191/200\n",
            "131/131 [==============================] - 1s 6ms/step - loss: 0.0000e+00 - accuracy: 1.0000 - val_loss: 1.4999e-10 - val_accuracy: 1.0000\n",
            "Epoch 192/200\n",
            "131/131 [==============================] - 1s 6ms/step - loss: 0.0000e+00 - accuracy: 1.0000 - val_loss: 1.4999e-10 - val_accuracy: 1.0000\n",
            "Epoch 193/200\n",
            "131/131 [==============================] - 1s 6ms/step - loss: 0.0000e+00 - accuracy: 1.0000 - val_loss: 1.4999e-10 - val_accuracy: 1.0000\n",
            "Epoch 194/200\n",
            "131/131 [==============================] - 1s 6ms/step - loss: 0.0000e+00 - accuracy: 1.0000 - val_loss: 1.4999e-10 - val_accuracy: 1.0000\n",
            "Epoch 195/200\n",
            "131/131 [==============================] - 1s 6ms/step - loss: 0.0000e+00 - accuracy: 1.0000 - val_loss: 1.4999e-10 - val_accuracy: 1.0000\n",
            "Epoch 196/200\n",
            "131/131 [==============================] - 1s 6ms/step - loss: 0.0000e+00 - accuracy: 1.0000 - val_loss: 1.4999e-10 - val_accuracy: 1.0000\n",
            "Epoch 197/200\n",
            "131/131 [==============================] - 1s 6ms/step - loss: 0.0000e+00 - accuracy: 1.0000 - val_loss: 1.4999e-10 - val_accuracy: 1.0000\n",
            "Epoch 198/200\n",
            "131/131 [==============================] - 1s 6ms/step - loss: 0.0000e+00 - accuracy: 1.0000 - val_loss: 1.4999e-10 - val_accuracy: 1.0000\n",
            "Epoch 199/200\n",
            "131/131 [==============================] - 1s 6ms/step - loss: 0.0000e+00 - accuracy: 1.0000 - val_loss: 1.4999e-10 - val_accuracy: 1.0000\n",
            "Epoch 200/200\n",
            "131/131 [==============================] - 1s 6ms/step - loss: 0.0000e+00 - accuracy: 1.0000 - val_loss: 1.4999e-10 - val_accuracy: 1.0000\n"
          ],
          "name": "stdout"
        }
      ]
    },
    {
      "cell_type": "code",
      "metadata": {
        "colab": {
          "base_uri": "https://localhost:8080/"
        },
        "id": "WuraDEzYZWxV",
        "outputId": "38acd4f2-0e85-488f-d90a-cd84e91c002f"
      },
      "source": [
        "Model.summary()"
      ],
      "execution_count": null,
      "outputs": [
        {
          "output_type": "stream",
          "text": [
            "Model: \"sequential\"\n",
            "_________________________________________________________________\n",
            "Layer (type)                 Output Shape              Param #   \n",
            "=================================================================\n",
            "conv2d (Conv2D)              (None, 25, 25, 4)         40        \n",
            "_________________________________________________________________\n",
            "conv2d_1 (Conv2D)            (None, 25, 25, 1)         37        \n",
            "=================================================================\n",
            "Total params: 77\n",
            "Trainable params: 77\n",
            "Non-trainable params: 0\n",
            "_________________________________________________________________\n"
          ],
          "name": "stdout"
        }
      ]
    },
    {
      "cell_type": "markdown",
      "metadata": {
        "id": "kA9HYzSjU_rF"
      },
      "source": [
        "> Loading the model."
      ]
    },
    {
      "cell_type": "code",
      "metadata": {
        "id": "Lgck1xuCZZsn"
      },
      "source": [
        "Model = tf.keras.models.load_model(\"/content/drive/My Drive/model_checkpoint_gol\")"
      ],
      "execution_count": null,
      "outputs": []
    },
    {
      "cell_type": "markdown",
      "metadata": {
        "id": "SkBtDd5XVajC"
      },
      "source": [
        "> Model performs very well with 100% acurracy on both testing and training data.\n",
        "> The model learned successfully to replicate conway's game of life rules using only one hidden layer with 3x3 kernel of 4 filters which makes a total of 77 parameters to tune."
      ]
    },
    {
      "cell_type": "code",
      "metadata": {
        "colab": {
          "base_uri": "https://localhost:8080/"
        },
        "id": "GmqOrLTxZVL-",
        "outputId": "f009d66e-a15d-4b6b-b95f-cd6c5867cb44"
      },
      "source": [
        "Model.evaluate(X_test, Y_test)"
      ],
      "execution_count": null,
      "outputs": [
        {
          "output_type": "stream",
          "text": [
            "1032/1032 [==============================] - 2s 2ms/step - loss: 1.4999e-10 - accuracy: 1.0000\n"
          ],
          "name": "stdout"
        },
        {
          "output_type": "execute_result",
          "data": {
            "text/plain": [
              "[1.4998752240202862e-10, 1.0]"
            ]
          },
          "metadata": {
            "tags": []
          },
          "execution_count": 15
        }
      ]
    },
    {
      "cell_type": "markdown",
      "metadata": {
        "id": "LyxohDZFWW6K"
      },
      "source": [
        "The model stopped training after 25 epochs and reached 100 % accuracy. The remaining training epochs lowered the Loss which was not useful for this Model."
      ]
    },
    {
      "cell_type": "code",
      "metadata": {
        "id": "9jKCL52YrAqU",
        "colab": {
          "base_uri": "https://localhost:8080/",
          "height": 393
        },
        "outputId": "5f66aa03-211c-48e2-a11b-ff667cb31392"
      },
      "source": [
        "loss = history.history['loss']\n",
        "val_loss = history.history['val_loss']\n",
        "accuracy = history.history['accuracy']\n",
        "val_accuracy = history.history['val_accuracy']\n",
        "epochs = range(len(loss))\n",
        "\n",
        "fig = plt.figure(figsize=(12,6))\n",
        "gs = fig.add_gridspec(1, 2)\n",
        "ax1 = fig.add_subplot(gs[0, 0])\n",
        "ax2 = fig.add_subplot(gs[0, 1])\n",
        "\n",
        "ax1.plot(epochs, loss, 'r', label='Training')\n",
        "ax1.plot(epochs, val_loss, 'b', label='Validation')\n",
        "ax1.set_xlabel('Epochs', size=16)\n",
        "ax1.set_ylabel('Loss', size=16)\n",
        "ax1.legend()\n",
        "\n",
        "ax2.plot(epochs, accuracy, 'r', label='Training')\n",
        "ax2.plot(epochs, val_accuracy, 'b', label='Validation')\n",
        "ax2.set_xlabel('Epochs', size=16)\n",
        "ax2.set_ylabel('Accuracy', size=16)\n",
        "ax2.legend()\n",
        "plt.show()"
      ],
      "execution_count": null,
      "outputs": [
        {
          "output_type": "display_data",
          "data": {
            "image/png": "[encoded data removed]",
            "text/plain": [
              "<Figure size 864x432 with 2 Axes>"
            ]
          },
          "metadata": {
            "tags": [],
            "needs_background": "light"
          }
        }
      ]
    },
    {
      "cell_type": "markdown",
      "metadata": {
        "id": "0uRLVq1WXSKB"
      },
      "source": [
        "> Printing some samples from the data to visualize model predictions"
      ]
    },
    {
      "cell_type": "code",
      "metadata": {
        "id": "OKYtOPi8rg3I",
        "colab": {
          "base_uri": "https://localhost:8080/",
          "height": 829
        },
        "outputId": "7157ec1a-80d7-4bac-a90d-fe3ebf546c21"
      },
      "source": [
        "for example in range(50, 55):\n",
        "\n",
        "    img_sample = X_test[example]\n",
        "    out_sample = Y_test[example]\n",
        "\n",
        "    Model.evaluate(img_sample.reshape((-1, 25, 25, 1)), out_sample.reshape((-1, 25, 25, 1)))\n",
        "    predicted = Model.predict(X_test[example].reshape((-1, 25, 25, 1)))\n",
        "\n",
        "    fig, (ax1, ax2, ax3) = plt.subplots(1, 3)\n",
        "\n",
        "    ax1.imshow((img_sample.reshape(25, 25)), cmap=\"gray\")\n",
        "    ax1.set_title(\"Start Setting\")\n",
        "\n",
        "    ax2.imshow((out_sample.reshape(25, 25)), cmap=\"gray\")\n",
        "    ax2.set_title(\"Stop Setting\")\n",
        "\n",
        "    ax3.imshow((predicted.reshape(25, 25) >= 0.5), cmap=\"gray\")\n",
        "    ax3.set_title(\"Predicted Setting\")\n",
        "    plt.show()"
      ],
      "execution_count": null,
      "outputs": [
        {
          "output_type": "stream",
          "text": [
            "1/1 [==============================] - 0s 21ms/step - loss: 0.0000e+00 - accuracy: 1.0000\n"
          ],
          "name": "stdout"
        },
        {
          "output_type": "display_data",
          "data": {
            "image/png": "[encoded data removed]",
            "text/plain": [
              "<Figure size 432x288 with 3 Axes>"
            ]
          },
          "metadata": {
            "tags": [],
            "needs_background": "light"
          }
        },
        {
          "output_type": "stream",
          "text": [
            "1/1 [==============================] - 0s 14ms/step - loss: 0.0000e+00 - accuracy: 1.0000\n"
          ],
          "name": "stdout"
        },
        {
          "output_type": "display_data",
          "data": {
            "image/png": "[encoded data removed]",
            "text/plain": [
              "<Figure size 432x288 with 3 Axes>"
            ]
          },
          "metadata": {
            "tags": [],
            "needs_background": "light"
          }
        },
        {
          "output_type": "stream",
          "text": [
            "1/1 [==============================] - 0s 14ms/step - loss: 0.0000e+00 - accuracy: 1.0000\n"
          ],
          "name": "stdout"
        },
        {
          "output_type": "display_data",
          "data": {
            "image/png": "[encoded data removed]",
            "text/plain": [
              "<Figure size 432x288 with 3 Axes>"
            ]
          },
          "metadata": {
            "tags": [],
            "needs_background": "light"
          }
        },
        {
          "output_type": "stream",
          "text": [
            "1/1 [==============================] - 0s 14ms/step - loss: 0.0000e+00 - accuracy: 1.0000\n"
          ],
          "name": "stdout"
        },
        {
          "output_type": "display_data",
          "data": {
            "image/png": "[encoded data removed]",
            "text/plain": [
              "<Figure size 432x288 with 3 Axes>"
            ]
          },
          "metadata": {
            "tags": [],
            "needs_background": "light"
          }
        },
        {
          "output_type": "stream",
          "text": [
            "1/1 [==============================] - 0s 14ms/step - loss: 0.0000e+00 - accuracy: 1.0000\n"
          ],
          "name": "stdout"
        },
        {
          "output_type": "display_data",
          "data": {
            "image/png": "[encoded data removed]",
            "text/plain": [
              "<Figure size 432x288 with 3 Axes>"
            ]
          },
          "metadata": {
            "tags": [],
            "needs_background": "light"
          }
        }
      ]
    }
  ]
}